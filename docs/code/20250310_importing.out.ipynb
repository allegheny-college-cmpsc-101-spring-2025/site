{
  "cells": [
    {
      "cell_type": "markdown",
      "metadata": {},
      "source": [
        "# \n",
        "\n",
        "<figure>\n",
        "<a\n",
        "href=\"https://githubtocolab.com/allegheny-college-cmpsc-101-spring-2025/site/blob/main/code/20250310_importing.ipynb\"><img\n",
        "src=\"https://colab.research.google.com/assets/colab-badge.svg\"\n",
        "alt=\"Open In Colab\" /></a>\n",
        "<figcaption>Open In Colab</figcaption>\n",
        "</figure>\n",
        "\n",
        "# Guttag Chapter 7 - Modules"
      ],
      "id": "d8b9b0ef-7f70-46e9-bb76-a14130b3125f"
    },
    {
      "cell_type": "code",
      "execution_count": null,
      "metadata": {},
      "outputs": [],
      "source": [
        "%reset -f\n",
        "\n",
        "import Typing\n",
        "\n",
        "# Recalling the apply_to_each function\n",
        "# TODO: access the List symbol without modifying the import statement\n",
        "# TODO: access the Callable symbol without modifying the import statement\n",
        "# TODO: access the Tuple symbol without modifying the import statement"
      ],
      "id": "cell-2"
    },
    {
      "cell_type": "code",
      "execution_count": null,
      "metadata": {},
      "outputs": [],
      "source": [
        "%reset -f\n",
        "\n",
        "from Typing import List, Callable, Tuple\n",
        "\n",
        "# Recalling the apply_to_each function\n",
        "# TODO: access the List symbol without modifying the import statement\n",
        "# TODO: access the Callable symbol without modifying the import statement\n",
        "# TODO: access the Tuple symbol without modifying the import statement"
      ],
      "id": "cell-3"
    },
    {
      "cell_type": "code",
      "execution_count": null,
      "metadata": {},
      "outputs": [],
      "source": [
        "%reset -f\n",
        "\n",
        "# TODO: write an import statement to give direct access to the randint function in the random lib"
      ],
      "id": "cell-4"
    },
    {
      "cell_type": "code",
      "execution_count": null,
      "metadata": {},
      "outputs": [],
      "source": [
        "%reset -f\n",
        "\n",
        "# TODO: write an import statement that renames the random lib to be your name\n",
        "# TODO: then acccess the randint function using do notation"
      ],
      "id": "cell-5"
    },
    {
      "cell_type": "code",
      "execution_count": null,
      "metadata": {},
      "outputs": [],
      "source": [
        "# TODO: think of another example to test using the copy module"
      ],
      "id": "cell-6"
    }
  ],
  "nbformat": 4,
  "nbformat_minor": 5,
  "metadata": {
    "colab": {
      "provenance": []
    },
    "kernelspec": {
      "name": "python3",
      "display_name": "Python 3",
      "language": "python"
    },
    "language_info": {
      "name": "python"
    }
  }
}