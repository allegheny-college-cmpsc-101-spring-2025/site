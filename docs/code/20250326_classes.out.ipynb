{
  "cells": [
    {
      "cell_type": "markdown",
      "metadata": {},
      "source": [
        "# \n",
        "\n",
        "<figure>\n",
        "<a\n",
        "href=\"https://githubtocolab.com/allegheny-college-cmpsc-101-spring-2025/site/blob/main/code/20250326_classes.ipynb\"><img\n",
        "src=\"https://colab.research.google.com/assets/colab-badge.svg\"\n",
        "alt=\"Open In Colab\" /></a>\n",
        "<figcaption>Open In Colab</figcaption>\n",
        "</figure>\n",
        "\n",
        "## A Vehicle Class"
      ],
      "id": "fb122e46-7053-480c-b406-76b477e14923"
    },
    {
      "cell_type": "code",
      "execution_count": null,
      "metadata": {},
      "outputs": [],
      "source": [
        "# Please examine and run and edit the code below to answer these questions:\n",
        "\n",
        "# What is the syntax used to instatiate a Vehicle?\n",
        "# Which dunder method is responsible for allowing the print statement to work?\n",
        "# What happens if you remove that method?\n",
        "# Does the Vehicle class have any publically accessible attributes?\n",
        "# How can you tell?\n",
        "# Does the Vehicle class have any publically accessible methods?\n",
        "# How can you tell?\n",
        "# What happens if you try to check if two vehicles are equal?\n",
        "# Add a dunder method to make it possible to check for equality."
      ],
      "id": "cell-2"
    },
    {
      "cell_type": "code",
      "execution_count": null,
      "metadata": {},
      "outputs": [],
      "source": [
        "class Vehicle():\n",
        "  \"\"\"Abstract data type representing a vehicle.\"\"\"\n",
        "\n",
        "  def __init__(self, num_seats: int, num_doors: int, engine_type: str):\n",
        "    \"\"\"Define the constructor.\"\"\"\n",
        "    self._seats = num_seats\n",
        "    self._doors = num_doors\n",
        "    self._engine = engine_type\n",
        "    self._mileage = 0.0\n",
        "\n",
        "  def drive(self, num_miles: float):\n",
        "    \"\"\"Add mileage to the vehicle.\"\"\"\n",
        "    self._mileage += num_miles\n",
        "    return None\n",
        "\n",
        "  def mileage(self):\n",
        "    \"\"\"Get the milage of the vehicle.\"\"\"\n",
        "    return self._mileage\n",
        "\n",
        "  def __repr__(self):\n",
        "    \"\"\"Define the printable representation of the vehicle.\"\"\"\n",
        "    return f\"{self._engine} vehicle with {self._seats} seats, \" +\\\n",
        "           f\"{self._doors} doors, and {self._mileage} miles.\""
      ],
      "id": "cell-3"
    },
    {
      "cell_type": "code",
      "execution_count": null,
      "metadata": {},
      "outputs": [],
      "source": [
        "# Instantiate a vehicle with the constructor\n",
        "new_sports_car = Vehicle(num_seats = 2, num_doors = 2, engine_type = \"gas\")\n",
        "\n",
        "print(new_sports_car)\n",
        "type(new_sports_car)\n",
        "\n"
      ],
      "id": "cell-4"
    },
    {
      "cell_type": "code",
      "execution_count": null,
      "metadata": {},
      "outputs": [],
      "source": [
        "# Use a vehicle method to drive the car\n",
        "distance = 1000\n",
        "new_sports_car.drive(distance)\n",
        "\n",
        "print(new_sports_car)"
      ],
      "id": "cell-5"
    },
    {
      "cell_type": "code",
      "execution_count": null,
      "metadata": {},
      "outputs": [],
      "source": [
        "# Instantiate two vehicles and check if they are equal\n",
        "\n",
        "new_sports_car1 = Vehicle(num_seats = 2, num_doors = 2, engine_type = \"gas\")\n",
        "new_sports_car2 = Vehicle(num_seats = 2, num_doors = 2, engine_type = \"gas\")\n",
        "print(\"testing if new_sports_car1 == new_sports_car2:\", new_sports_car1 == new_sports_car2)"
      ],
      "id": "cell-6"
    }
  ],
  "nbformat": 4,
  "nbformat_minor": 5,
  "metadata": {
    "colab": {
      "provenance": []
    },
    "kernelspec": {
      "name": "python3",
      "display_name": "Python 3",
      "language": "python"
    },
    "language_info": {
      "name": "python"
    }
  }
}