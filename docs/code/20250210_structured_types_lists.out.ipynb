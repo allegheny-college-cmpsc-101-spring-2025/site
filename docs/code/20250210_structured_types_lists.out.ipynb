{
  "cells": [
    {
      "cell_type": "markdown",
      "metadata": {},
      "source": [
        "# \n",
        "\n",
        "<figure>\n",
        "<a\n",
        "href=\"https://githubtocolab.com/allegheny-college-cmpsc-101-spring-2025/site/blob/main/code/20250210_structured_types_lists.ipynb\"><img\n",
        "src=\"https://colab.research.google.com/assets/colab-badge.svg\"\n",
        "alt=\"Open In Colab\" /></a>\n",
        "<figcaption>Open In Colab</figcaption>\n",
        "</figure>\n",
        "\n",
        "# Defining Lists in Python Programs\n",
        "\n",
        "-   lists are a data type\n",
        "-   lists are containers\n",
        "-   lists contain things that can be any data type\n",
        "-   lists are mutable"
      ],
      "id": "662f9b8a-81e3-45fc-8367-bfde9cca4bb6"
    },
    {
      "cell_type": "code",
      "execution_count": null,
      "metadata": {},
      "outputs": [],
      "source": [
        "# these are lists\n",
        "new_pair = [3.2, 4]\n",
        "new_quadlist = [\"Story number\", 3, \"is\", True]\n",
        "\n",
        "# what is the data type of `new_pair` and `new_quadlist`?\n",
        "# what is similar about the definition of `new_pair` and `new_quadlist`\n",
        "# What are the data types of the values in these lists?"
      ],
      "id": "cell-3"
    },
    {
      "cell_type": "code",
      "execution_count": null,
      "metadata": {},
      "outputs": [],
      "source": [
        "# Is it required to have all the same data type within a list?\n",
        "# Write your own example storing three mixed-type items in a list."
      ],
      "id": "cell-4"
    },
    {
      "cell_type": "code",
      "execution_count": null,
      "metadata": {},
      "outputs": [],
      "source": [
        "# these are lists\n",
        "list_empty = []\n",
        "list_str = [\"Story\"]\n",
        "list_int = [3]\n",
        "list_float = [3.14159]\n",
        "\n",
        "\n",
        "# what is the data type of `list_empty` and `list_str`?\n",
        "# what is the data type of `list_int` and `list_float`?\n",
        "# What are the data types of the _values_ in these list?"
      ],
      "id": "cell-5"
    },
    {
      "cell_type": "code",
      "execution_count": null,
      "metadata": {},
      "outputs": [],
      "source": [
        "# Do lists always have to contain data?\n",
        "# What is the difference between a list and a number conceptually\n",
        "# What is the difference between a list and a number syntactically?"
      ],
      "id": "cell-6"
    },
    {
      "cell_type": "code",
      "execution_count": null,
      "metadata": {},
      "outputs": [],
      "source": [
        "# does a tuple == a list with the same elems?\n",
        "\n",
        "tu = (1,)\n",
        "li = [1]\n",
        "print(\"does a tuple == a list with the same elems? \", tu == li)\n",
        "print(\"are the elements the same? \", tu[0] == li[0])"
      ],
      "id": "cell-7"
    },
    {
      "cell_type": "markdown",
      "metadata": {},
      "source": [
        "# creating new lists"
      ],
      "id": "db810362-7010-46df-ac72-4b7cd64859a7"
    },
    {
      "cell_type": "code",
      "execution_count": null,
      "metadata": {},
      "outputs": [],
      "source": [
        "pair = [3.2, 4]\n",
        "quadlist = [\"Story number\", 3, \"is\", True]\n",
        "new_list = pair + quadlist\n",
        "print(new_list)"
      ],
      "id": "cell-9"
    },
    {
      "cell_type": "markdown",
      "metadata": {},
      "source": [
        "# packing and unpacking lists"
      ],
      "id": "3cee8396-aed4-45a2-aadd-c8df70a4cbf2"
    },
    {
      "cell_type": "code",
      "execution_count": null,
      "metadata": {},
      "outputs": [],
      "source": [
        "# pack a list into a variable\n",
        "pair = [3,4]\n",
        "# create a list named quintlist and pack in 5 elements\n"
      ],
      "id": "cell-11"
    },
    {
      "cell_type": "code",
      "execution_count": null,
      "metadata": {},
      "outputs": [],
      "source": [
        "# unpack the contents of a list\n",
        "\n",
        "x, y = pair\n",
        "\n",
        "# unpack the contents of `quintlist` into 5 new variables"
      ],
      "id": "cell-12"
    },
    {
      "cell_type": "code",
      "execution_count": null,
      "metadata": {},
      "outputs": [],
      "source": [
        "# describe your understanding of a list so far"
      ],
      "id": "cell-13"
    },
    {
      "cell_type": "code",
      "execution_count": null,
      "metadata": {},
      "outputs": [],
      "source": [
        "# what is happening here?\n",
        "\n",
        "a = [1, 2, 3]\n",
        "print(a[0])\n",
        "\n",
        "# is `a` a list?\n",
        "# what do the square brackets mean\n",
        "# is there any variable name assigned to the list?"
      ],
      "id": "cell-14"
    },
    {
      "cell_type": "code",
      "execution_count": null,
      "metadata": {},
      "outputs": [],
      "source": [
        "# what happens in this line of code\n",
        "\n",
        "a = [1, 2, 3][0]\n",
        "\n",
        "# is `a` a list?\n",
        "# what do the parens mean\n",
        "# what do the square brackets mean\n",
        "# is there any variable name assigned to the list?"
      ],
      "id": "cell-15"
    },
    {
      "cell_type": "code",
      "execution_count": null,
      "metadata": {},
      "outputs": [],
      "source": [
        "# what happens in this line of code\n",
        "\n",
        "a = [1, 2, 3]\n",
        "a[0] = 10\n",
        "\n",
        "# is `a` a list?\n",
        "# what do the parens mean\n",
        "# what do the square brackets mean\n",
        "# is there any variable name assigned to the list?\n",
        "# does the code crash?"
      ],
      "id": "cell-16"
    },
    {
      "cell_type": "code",
      "execution_count": null,
      "metadata": {},
      "outputs": [],
      "source": [
        "# re-describe your understanding of a list so far"
      ],
      "id": "cell-17"
    },
    {
      "cell_type": "markdown",
      "metadata": {},
      "source": [
        "# appending to existing list"
      ],
      "id": "3cceddee-05aa-4ac7-bf51-26b1cd0a576f"
    },
    {
      "cell_type": "code",
      "execution_count": null,
      "metadata": {},
      "outputs": [],
      "source": [
        "a = [1, 2, 3]\n",
        "a.append(1)\n",
        "print(a)"
      ],
      "id": "cell-19"
    },
    {
      "cell_type": "code",
      "execution_count": null,
      "metadata": {},
      "outputs": [],
      "source": [
        "a = [1, 2, 3]\n",
        "list.append(a, 1)\n",
        "print(a)"
      ],
      "id": "cell-20"
    },
    {
      "cell_type": "markdown",
      "metadata": {},
      "source": [
        "# loops"
      ],
      "id": "e4f42cb2-be03-4db4-8c1d-823588091c6d"
    },
    {
      "cell_type": "code",
      "execution_count": null,
      "metadata": {},
      "outputs": [],
      "source": [
        "a = [0, 'elem1', 'elem2', 3, 'this is the fourth element', '5', '6.0000', 7, 8.0000]\n",
        "\n",
        "for item in a:\n",
        "  print(item)\n",
        "\n",
        "for character in a[4]:\n",
        "  print(character)"
      ],
      "id": "cell-22"
    },
    {
      "cell_type": "markdown",
      "metadata": {},
      "source": [
        "# algorithms with lists"
      ],
      "id": "ee51bac7-6a4a-44bc-9572-4ad3453af8a0"
    },
    {
      "cell_type": "code",
      "execution_count": null,
      "metadata": {},
      "outputs": [],
      "source": [
        "# define a function that can apply a provided\n",
        "# function to each element in the list to change\n",
        "def apply_to_each(list_to_change, function):\n",
        "    for i in range(len(list_to_change)):\n",
        "        list_to_change[i] = function(list_to_change[i])"
      ],
      "id": "cell-24"
    },
    {
      "cell_type": "code",
      "execution_count": null,
      "metadata": {},
      "outputs": [],
      "source": [
        "values = [1, -2, 3.33]\n",
        "print(\"values =\", values)\n",
        "apply_to_each(values, abs)\n",
        "print(\"values =\", values)"
      ],
      "id": "cell-25"
    }
  ],
  "nbformat": 4,
  "nbformat_minor": 5,
  "metadata": {
    "colab": {
      "provenance": []
    },
    "kernelspec": {
      "name": "python3",
      "display_name": "Python 3",
      "language": "python"
    },
    "language_info": {
      "name": "python"
    }
  }
}