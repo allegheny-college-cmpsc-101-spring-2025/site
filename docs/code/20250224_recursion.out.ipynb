{
  "cells": [
    {
      "cell_type": "markdown",
      "metadata": {},
      "source": [
        "# \n",
        "\n",
        "<figure>\n",
        "<a\n",
        "href=\"https://githubtocolab.com/allegheny-college-cmpsc-101-spring-2025/site/blob/main/code/20250224_recursion.ipynb\"><img\n",
        "src=\"https://colab.research.google.com/assets/colab-badge.svg\"\n",
        "alt=\"Open In Colab\" /></a>\n",
        "<figcaption>Open In Colab</figcaption>\n",
        "</figure>\n",
        "\n",
        "# Guttag Chapter 6\n",
        "\n",
        "## Factorial Algorithms"
      ],
      "id": "7e67de40-fa59-4467-a6c7-e6525190d3b5"
    },
    {
      "cell_type": "code",
      "execution_count": 1,
      "metadata": {},
      "outputs": [],
      "source": [
        "# TODO: add comments explaining everything below\n",
        "\n",
        "def factorial_iter(n: int) -> int:\n",
        "  result = 1\n",
        "  for i in range(1,n+1,1):\n",
        "    result *= i\n",
        "  return result"
      ],
      "id": "cell-4"
    },
    {
      "cell_type": "code",
      "execution_count": 5,
      "metadata": {},
      "outputs": [],
      "source": [
        "# TODO: add comments explaining everything below\n",
        "\n",
        "def factorial(n: int) -> int:\n",
        "  if n == 1:\n",
        "    return 1\n",
        "  return n * factorial(n - 1)\n"
      ],
      "id": "cell-5"
    },
    {
      "cell_type": "code",
      "execution_count": null,
      "metadata": {},
      "outputs": [],
      "source": [
        "# TODO: call the functions"
      ],
      "id": "cell-6"
    },
    {
      "cell_type": "markdown",
      "metadata": {},
      "source": [
        "## Palindrome Algorithms"
      ],
      "id": "f2faca5c-ab64-4ef8-93a7-dc42f532d6ad"
    },
    {
      "cell_type": "code",
      "execution_count": null,
      "metadata": {},
      "outputs": [],
      "source": [
        "# TODO: add comments explaining everything below\n",
        "\n",
        "def pal_rev(w: str) -> bool:\n",
        "  w_rev = w[::-1]\n",
        "  if w_rev == w:\n",
        "    return True\n",
        "  return False\n"
      ],
      "id": "cell-8"
    },
    {
      "cell_type": "code",
      "execution_count": 7,
      "metadata": {},
      "outputs": [],
      "source": [
        "# TODO: add comments explaining everything below\n",
        "\n",
        "def pal_rec(w: str) -> bool:\n",
        "  if len(w) <= 1:\n",
        "    return True\n",
        "  elif w[0] == w[-1]:\n",
        "    return pal_rec(w[1:-1])\n",
        "  return False\n"
      ],
      "id": "cell-9"
    },
    {
      "cell_type": "code",
      "execution_count": null,
      "metadata": {},
      "outputs": [],
      "source": [
        "# TODO: call the function using upper and lower case letters"
      ],
      "id": "cell-10"
    },
    {
      "cell_type": "markdown",
      "metadata": {},
      "source": [
        "## Fibonacci Number Algorithms\n",
        "\n",
        "Fibonacci number ${F_n}$ is defined: - ${F_{n}=F_{n-1}+F_{n-2}}$ where -\n",
        "${F_0 = 0}$ and ${F_1 = 1}$ - learn more:\n",
        "https://en.wikipedia.org/wiki/Fibonacci_sequence"
      ],
      "id": "8e4675e3-e08c-4c50-8011-e14fa009dec9"
    },
    {
      "cell_type": "code",
      "execution_count": null,
      "metadata": {},
      "outputs": [],
      "source": [
        "# TODO: add comments explaining everything below\n",
        "\n",
        "def fib(nth: int) -> int:\n",
        "  if nth <= 1:\n",
        "    return nth\n",
        "  zeroth = 0\n",
        "  first = 1\n",
        "  for _ in range(2,nth + 1):\n",
        "    next = zeroth + first\n",
        "    zeroth = first\n",
        "    first = next\n",
        "  return next\n",
        "\n",
        "\n",
        "fib(15)"
      ],
      "id": "cell-13"
    },
    {
      "cell_type": "code",
      "execution_count": null,
      "metadata": {},
      "outputs": [],
      "source": [
        "# TODO: add comments explaining everything below\n",
        "\n",
        "def fib_rec(nth: int) -> int:\n",
        "  if nth <= 1:\n",
        "    return nth\n",
        "  else:\n",
        "    return fib_rec(nth-1) + fib_rec(nth-2)\n",
        "\n",
        "fib_rec(15)"
      ],
      "id": "cell-14"
    },
    {
      "cell_type": "markdown",
      "metadata": {},
      "source": [
        "## Fibonacci Sequence Algorithms"
      ],
      "id": "870f1b74-232e-4cb4-8e05-af0f4e4d1ba5"
    },
    {
      "cell_type": "code",
      "execution_count": null,
      "metadata": {},
      "outputs": [],
      "source": [
        "# TODO: add comments explaining everything below\n",
        "\n",
        "from typing import List\n",
        "\n",
        "def fib(nth: int) -> List[int]:\n",
        "  if nth == 0:\n",
        "    return [0]\n",
        "  if nth == 1:\n",
        "    return [0,1]\n",
        "  seq = [0,1]\n",
        "  for _ in range(2,nth + 1):\n",
        "    next = seq[-1] + seq[-2]\n",
        "    seq.append(next)\n",
        "  return seq\n",
        "\n",
        "fib(15)"
      ],
      "id": "cell-16"
    },
    {
      "cell_type": "code",
      "execution_count": null,
      "metadata": {},
      "outputs": [],
      "source": [
        "from typing import Tuple\n",
        "\n",
        "def fib(nth: int) -> Tuple[int]:\n",
        "  if nth == 0:\n",
        "    # TODO: modify previous iterative algorithm to use tuples\n",
        "\n",
        "  if nth == 1:\n",
        "    # TODO: modify previous iterative algorithm to use tuples\n",
        "\n",
        "  # TODO: modify previous iterative algorithm to use tuples\n",
        "\n",
        "  for _ in range(2,nth + 1):\n",
        "\n",
        "    # TODO: modify previous iterative algorithm to use tuples\n",
        "\n",
        "    # TODO: modify previous iterative algorithm to use tuples\n",
        "\n",
        "  return seq\n",
        "\n",
        "fib(15)"
      ],
      "id": "cell-17"
    },
    {
      "cell_type": "code",
      "execution_count": null,
      "metadata": {},
      "outputs": [],
      "source": [
        "# TODO: add comments explaining everything below\n",
        "\n",
        "from typing import List\n",
        "\n",
        "def fib_rec(nth: int) -> List[int]:\n",
        "  if nth == 0:\n",
        "    return [0]\n",
        "  if nth == 1:\n",
        "    return [0,1]\n",
        "  seq = fib_rec(nth - 1)\n",
        "  seq.append(seq[-1] + seq[-2])\n",
        "  return seq\n",
        "\n",
        "fib_rec(15)"
      ],
      "id": "cell-18"
    },
    {
      "cell_type": "code",
      "execution_count": null,
      "metadata": {},
      "outputs": [],
      "source": [
        "from typing import Tuple\n",
        "\n",
        "def fib_rec(nth: int) -> Tuple[int]:\n",
        "  if nth == 0:\n",
        "    # TODO: modify previous recursive algorithm to use tuples\n",
        "\n",
        "  if nth == 1:\n",
        "    # TODO: modify previous recursive algorithm to use tuples\n",
        "\n",
        "  seq = fib_rec(nth - 1)\n",
        "\n",
        "  # TODO: modify previous recursive algorithm to use tuples\n",
        "\n",
        "\n",
        "  return seq\n",
        "\n",
        "fib_rec(15)"
      ],
      "id": "cell-19"
    },
    {
      "cell_type": "markdown",
      "metadata": {},
      "source": [
        "## Questions\n",
        "\n",
        "-   How can you tell if an algorithm is iterative?\n",
        "-   How can you tell if an algorithm is recursive?\n",
        "-   What valid inputs cause problems with some algorithms shown above\n",
        "    and why?"
      ],
      "id": "da37e991-741f-4c69-9c29-15510e2ca090"
    }
  ],
  "nbformat": 4,
  "nbformat_minor": 5,
  "metadata": {
    "colab": {
      "provenance": []
    },
    "kernelspec": {
      "name": "python3",
      "display_name": "Python 3",
      "language": "python"
    },
    "language_info": {
      "name": "python"
    }
  }
}