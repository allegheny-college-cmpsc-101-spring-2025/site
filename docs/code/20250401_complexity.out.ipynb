{
  "cells": [
    {
      "cell_type": "markdown",
      "metadata": {},
      "source": [
        "# \n",
        "\n",
        "<figure>\n",
        "<a\n",
        "href=\"https://githubtocolab.com/allegheny-college-cmpsc-101-spring-2025/site/blob/main/code/20250401_complexity.ipynb\"><img\n",
        "src=\"https://colab.research.google.com/assets/colab-badge.svg\"\n",
        "alt=\"Open In Colab\" /></a>\n",
        "<figcaption>Open In Colab</figcaption>\n",
        "</figure>\n",
        "\n",
        "## Worst Case Complexity"
      ],
      "id": "facaabe3-a5d4-4ddd-9c7c-466ae1748914"
    },
    {
      "cell_type": "code",
      "execution_count": 1,
      "metadata": {},
      "outputs": [],
      "source": [
        "import random"
      ],
      "id": "cell-2"
    },
    {
      "cell_type": "code",
      "execution_count": null,
      "metadata": {},
      "outputs": [],
      "source": [
        "array = [random.randint(0,100) for _ in range(1000)]\n",
        "n = len(array)\n",
        "\n",
        "counter = 0\n",
        "for i in range(n):\n",
        "    # do a constant number of things for each element\n",
        "  counter += 1\n",
        "\n",
        "print(counter)\n"
      ],
      "id": "cell-3"
    },
    {
      "cell_type": "code",
      "execution_count": null,
      "metadata": {},
      "outputs": [],
      "source": [
        "array = [random.randint(0,100) for _ in range(1000)]\n",
        "n = len(array)\n",
        "\n",
        "counter = 0\n",
        "for i in range(n):\n",
        "    # do a constant number of things for each element\n",
        "  counter += 1\n",
        "  if array[i] > 50:\n",
        "    break\n",
        "\n",
        "print(counter)\n",
        "print(array[:20])"
      ],
      "id": "cell-4"
    },
    {
      "cell_type": "code",
      "execution_count": null,
      "metadata": {},
      "outputs": [],
      "source": [
        "array = [random.randint(0,100) for _ in range(1000)]\n",
        "n = len(array)\n",
        "\n",
        "counter = 0\n",
        "for i in range(n):\n",
        "    # do a constant number of things for each element\n",
        "  counter += 1\n",
        "  if array[i] > 100:\n",
        "    break\n",
        "\n",
        "print(counter)\n",
        "print(array[:20])"
      ],
      "id": "cell-5"
    },
    {
      "cell_type": "markdown",
      "metadata": {},
      "source": [
        "## Empirical Analysis"
      ],
      "id": "572e6b63-088f-4d71-81c2-cfa6b1d7d84b"
    },
    {
      "cell_type": "code",
      "execution_count": null,
      "metadata": {},
      "outputs": [],
      "source": [
        "### Containment Lab\n",
        "\n",
        "# Perform timing experiments using the timeit package\n",
        "\n",
        "# NOTE: these experiments are not rigorous doubling\n",
        "# experiments but rather small-scale experiments that\n",
        "# illustrate how the timing package works in Python\n",
        "\n",
        "# Refer to the documentation of timeit for more details:\n",
        "# https://docs.python.org/3/library/timeit.html\n",
        "\n",
        "# import the timeit package used to collect\n",
        "# performance data about the function's execution\n",
        "import timeit\n",
        "\n",
        "# define the function to analyze in a string\n",
        "# so that it can be passed to the timeit function\n",
        "code_to_time = \"\"\"def factorial(n: int) -> int:\n",
        "    answer = 1\n",
        "    while n > 1:\n",
        "        answer *= n\n",
        "        n -= 1\n",
        "    return answer\n",
        "\n",
        "factorial(100)\"\"\"\n",
        "\n",
        "# repeatedly run the code_to_time and\n",
        "# report the performance results; this\n",
        "# runs a total of three benchmarking campaigns\n",
        "# that will individually run the code a\n",
        "# total of 10000 times. It then reports\n",
        "# the total execution time for each campaign\n",
        "print (timeit.repeat(stmt = code_to_time,\n",
        "                     repeat = 3,\n",
        "                     number = 10000))\n"
      ],
      "id": "cell-7"
    },
    {
      "cell_type": "code",
      "execution_count": null,
      "metadata": {},
      "outputs": [],
      "source": [
        "### alternate method\n",
        "\n",
        "def factorial(n) -> int:\n",
        "  answer = 1\n",
        "  while n >= 1:\n",
        "    answer *= n\n",
        "    n -= 1\n",
        "  return answer\n",
        "\n",
        "%timeit -n 10000 -r 3 factorial(100)"
      ],
      "id": "cell-8"
    },
    {
      "cell_type": "code",
      "execution_count": null,
      "metadata": {},
      "outputs": [],
      "source": [
        "# Questions and TODOs\n",
        "\n",
        "# If the total time is reported for each run, how can the average time be found?\n",
        "# TODO: write an algorithm to compute the average time it took for each repetion within a run\n",
        "# TODO: write an algorithm to compute the average time it took for a single repeition"
      ],
      "id": "cell-9"
    },
    {
      "cell_type": "markdown",
      "metadata": {},
      "source": [
        "## Doubling Experiment"
      ],
      "id": "1b4ad720-e9ff-488a-8eda-6bcf85d533f7"
    },
    {
      "cell_type": "code",
      "execution_count": null,
      "metadata": {},
      "outputs": [],
      "source": [
        "# TODO: Using one of the methods shown above, run a doubling experiment on this code\n",
        "# Start by making a random list of length input_size, then pass actual parameters to the function\n",
        "# Record relevant results into the Markdown table\n",
        "# Repeat above with doubled input serval times"
      ],
      "id": "cell-11"
    },
    {
      "cell_type": "code",
      "execution_count": null,
      "metadata": {},
      "outputs": [],
      "source": [
        "from typing import List\n",
        "\n",
        "def function(array: List[int], n: int) -> int:\n",
        "  counter = 0\n",
        "  for i in range(n):\n",
        "    array[i] += 1\n",
        "    for j in range(n):\n",
        "      array[j] += 1\n",
        "      for k in range(n):\n",
        "        array[k] += 1\n",
        "        counter += 1\n",
        "  return counter"
      ],
      "id": "cell-12"
    },
    {
      "cell_type": "code",
      "execution_count": null,
      "metadata": {},
      "outputs": [],
      "source": [
        "input_size = 50"
      ],
      "id": "cell-13"
    },
    {
      "cell_type": "code",
      "execution_count": null,
      "metadata": {},
      "outputs": [],
      "source": [
        "input_size = 100"
      ],
      "id": "cell-14"
    },
    {
      "cell_type": "code",
      "execution_count": null,
      "metadata": {},
      "outputs": [],
      "source": [
        "input_size = 200"
      ],
      "id": "cell-15"
    },
    {
      "cell_type": "code",
      "execution_count": null,
      "metadata": {},
      "outputs": [],
      "source": [
        "input_size = 400"
      ],
      "id": "cell-16"
    },
    {
      "cell_type": "markdown",
      "metadata": {},
      "source": [
        "| input size | duration |\n",
        "|------------|----------|\n",
        "| TODO       | TODO     |\n",
        "| TODO       | TODO     |\n",
        "| TODO       | TODO     |\n",
        "| TODO       | TODO     |\n",
        "\n",
        "Doubling ratios - row2:row1 =\\> - row3:row2 =\\> - row4:row3 =\\>"
      ],
      "id": "2fb7b585-6c56-408d-81fe-723f721d23b0"
    }
  ],
  "nbformat": 4,
  "nbformat_minor": 5,
  "metadata": {
    "colab": {
      "collapsed_sections": [
        "HgSvAL1hk5V0",
        "HSMu9S5jecAV"
      ],
      "provenance": []
    },
    "kernelspec": {
      "name": "python3",
      "display_name": "Python 3",
      "language": "python"
    },
    "language_info": {
      "name": "python"
    }
  }
}