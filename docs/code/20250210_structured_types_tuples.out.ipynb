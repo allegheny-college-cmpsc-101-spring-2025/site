{
  "cells": [
    {
      "cell_type": "markdown",
      "metadata": {},
      "source": [
        "# \n",
        "\n",
        "<figure>\n",
        "<a\n",
        "href=\"https://githubtocolab.com/allegheny-college-cmpsc-101-spring-2025/site/blob/main/code/20250210_structured_types_tuples.ipynb\"><img\n",
        "src=\"https://colab.research.google.com/assets/colab-badge.svg\"\n",
        "alt=\"Open In Colab\" /></a>\n",
        "<figcaption>Open In Colab</figcaption>\n",
        "</figure>\n",
        "\n",
        "# Defining n-Tuples in Python Programs\n",
        "\n",
        "-   tuples are a data type\n",
        "-   tuples are containers\n",
        "-   tuples contain things that can be any data type\n",
        "-   tuples are immutable"
      ],
      "id": "0ee694ef-c9f6-40d8-9ab8-c3495e587ed8"
    },
    {
      "cell_type": "code",
      "execution_count": null,
      "metadata": {},
      "outputs": [],
      "source": [
        "# these are tuples\n",
        "pair = 3, 4.9\n",
        "quadruple = \"Story number\", 3, \"is\", False\n",
        "\n",
        "# what is the data type of `pair` and `quadruple`?\n",
        "# what is similar about the definition of `pair` and `quadruple`\n",
        "# What are the data types of the values in these tuples?"
      ],
      "id": "cell-3"
    },
    {
      "cell_type": "code",
      "execution_count": null,
      "metadata": {},
      "outputs": [],
      "source": [
        "# these are tuples\n",
        "new_pair = (3.2, 4)\n",
        "new_quadruple = (\"Story number\", 3, \"is\", True)\n",
        "\n",
        "# what is the data type of `new_pair` and `new_quadruple`?\n",
        "# what is similar about the definition of `new_pair` and `new_quadruple`\n",
        "# What are the data types of the values in these tuples?"
      ],
      "id": "cell-4"
    },
    {
      "cell_type": "code",
      "execution_count": null,
      "metadata": {},
      "outputs": [],
      "source": [
        "# Is it required to have all the same data type within a tuple?\n",
        "# Write your own example storing three mixed-type items in a tuple."
      ],
      "id": "cell-5"
    },
    {
      "cell_type": "code",
      "execution_count": null,
      "metadata": {},
      "outputs": [],
      "source": [
        "# these are tuples\n",
        "tuple_empty = ()\n",
        "tuple_str = (\"Story\",)\n",
        "tuple_int = (3,)\n",
        "tuple_float = (3.14159,)\n",
        "\n",
        "\n",
        "# what is the data type of `tuple_empty` and `tuple_str`?\n",
        "# what is the data type of `tuple_int` and `tuple_float`?\n",
        "# what is similar about the definition of `tuple_str` and `tuple_int` and `tuple_float`\n",
        "# what do the variable names have to do with the data type?\n",
        "# What are the data types of the _values_ in these tuples?"
      ],
      "id": "cell-6"
    },
    {
      "cell_type": "code",
      "execution_count": null,
      "metadata": {},
      "outputs": [],
      "source": [
        "# these are NOT tuples\n",
        "example_int = (100)\n",
        "example_float = (100.001)\n",
        "\n",
        "# what are the data types of `example_int` and `example_float`?\n",
        "# how else could these same variable names and values be used in assignment?\n",
        "# rewrite these as tuples\n"
      ],
      "id": "cell-7"
    },
    {
      "cell_type": "code",
      "execution_count": null,
      "metadata": {},
      "outputs": [],
      "source": [
        "# Do tuples always have to contain data?\n",
        "# What syntax does a singleton tuple require?\n",
        "# What is the difference between a tuple and a number conceptually\n",
        "# What is the difference between a tuple and a number syntactically?"
      ],
      "id": "cell-8"
    },
    {
      "cell_type": "markdown",
      "metadata": {},
      "source": [
        "# creating new tuples"
      ],
      "id": "08330e15-6e4b-49c3-8aa6-b1042df28df2"
    },
    {
      "cell_type": "code",
      "execution_count": null,
      "metadata": {
        "outputId": "075877d8-2d9b-4a8f-fdc7-09c8d99fae8d"
      },
      "outputs": [
        {
          "output_type": "stream",
          "name": "stdout",
          "text": [
            "(3.2, 4, 'Story number', 3, 'is', True)"
          ]
        }
      ],
      "source": [
        "pair = (3.2, 4)\n",
        "quadruple = (\"Story number\", 3, \"is\", True)\n",
        "new_tuple = pair + quadruple\n",
        "print(new_tuple)"
      ],
      "id": "cell-10"
    },
    {
      "cell_type": "markdown",
      "metadata": {},
      "source": [
        "# packing and unpacking tuples"
      ],
      "id": "b686cc7c-0433-4061-9e1e-cfffff01cef3"
    },
    {
      "cell_type": "code",
      "execution_count": null,
      "metadata": {},
      "outputs": [],
      "source": [
        "# pack a tuple into a variable\n",
        "pair = (3,4)\n",
        "# create a tuple named quintuple and pack in 5 elements\n"
      ],
      "id": "cell-12"
    },
    {
      "cell_type": "code",
      "execution_count": null,
      "metadata": {},
      "outputs": [],
      "source": [
        "# unpack the contents of a tuple\n",
        "x, y = pair\n",
        "(x, y) = pair\n",
        "\n",
        "# unpack the contents of `quintuple` into 5 new variables"
      ],
      "id": "cell-13"
    },
    {
      "cell_type": "code",
      "execution_count": null,
      "metadata": {},
      "outputs": [],
      "source": [
        "# describe your understanding of a tuple so far"
      ],
      "id": "cell-14"
    },
    {
      "cell_type": "code",
      "execution_count": null,
      "metadata": {},
      "outputs": [],
      "source": [
        "# what is happening here?\n",
        "\n",
        "a = (1, 2, 3)\n",
        "print(a[0])\n",
        "\n",
        "# is `a` a tuple?\n",
        "# what do the parens mean\n",
        "# what do the square brackets mean\n",
        "# is there any variable name assigned to the tuple?"
      ],
      "id": "cell-15"
    },
    {
      "cell_type": "code",
      "execution_count": null,
      "metadata": {},
      "outputs": [],
      "source": [
        "# what happens in this line of code\n",
        "\n",
        "a = (1, 2, 3)[0]\n",
        "\n",
        "# is `a` a tuple?\n",
        "# what do the parens mean\n",
        "# what do the square brackets mean\n",
        "# is there any variable name assigned to the tuple?"
      ],
      "id": "cell-16"
    },
    {
      "cell_type": "code",
      "execution_count": null,
      "metadata": {},
      "outputs": [],
      "source": [
        "# what happens in this line of code\n",
        "\n",
        "a = (1, 2, 3)\n",
        "a[0] = 10\n",
        "\n",
        "# is `a` a tuple?\n",
        "# what do the parens mean\n",
        "# what do the square brackets mean\n",
        "# is there any variable name assigned to the tuple?\n",
        "# why does the code crash?"
      ],
      "id": "cell-17"
    },
    {
      "cell_type": "code",
      "execution_count": null,
      "metadata": {},
      "outputs": [],
      "source": [
        "# re-describe your understanding of a tuple so far"
      ],
      "id": "cell-18"
    },
    {
      "cell_type": "markdown",
      "metadata": {},
      "source": [
        "# loops"
      ],
      "id": "2ba575a3-c661-4085-afa8-cebd0efb303d"
    },
    {
      "cell_type": "code",
      "execution_count": null,
      "metadata": {},
      "outputs": [],
      "source": [
        "a = (0, 'elem1', 'elem2', 3, 'this is the fourth element', '5', '6.0000', 7, 8.0000)\n",
        "\n",
        "for item in a:\n",
        "  print(item)"
      ],
      "id": "cell-20"
    },
    {
      "cell_type": "markdown",
      "metadata": {},
      "source": [
        "# algorithms with tuples"
      ],
      "id": "019c92fc-c9ae-472d-a024-e23c2134bbc1"
    },
    {
      "cell_type": "code",
      "execution_count": null,
      "metadata": {},
      "outputs": [],
      "source": [
        "# Perform intersections with tuples of values\n",
        "#\n",
        "# define a function that uses a single\n",
        "# for loop to compute the intersection of\n",
        "# the two input tuples\n",
        "def intersect(tuple_one, tuple_two):\n",
        "    result = ()\n",
        "    for element in tuple_one:\n",
        "        if element in tuple_two:\n",
        "            result += (element,)\n",
        "    return result"
      ],
      "id": "cell-22"
    },
    {
      "cell_type": "code",
      "execution_count": null,
      "metadata": {},
      "outputs": [],
      "source": [
        "# create two tuples and then compute their intersection\n",
        "first_tuple = (1, \"a\", 2)\n",
        "second_tuple = (\"b\", 2, \"a\")\n",
        "intersection_tuple_one = intersect(first_tuple, second_tuple)\n",
        "intersection_tuple_two = intersect(second_tuple, first_tuple)\n",
        "print(f\"Intersection of {first_tuple} with {second_tuple} is {intersection_tuple_one}\")\n",
        "print(f\"Intersection of {second_tuple} with {first_tuple} is {intersection_tuple_two}\")"
      ],
      "id": "cell-23"
    }
  ],
  "nbformat": 4,
  "nbformat_minor": 5,
  "metadata": {
    "colab": {
      "provenance": []
    },
    "kernelspec": {
      "name": "python3",
      "display_name": "Python 3",
      "language": "python"
    },
    "language_info": {
      "name": "python"
    }
  }
}