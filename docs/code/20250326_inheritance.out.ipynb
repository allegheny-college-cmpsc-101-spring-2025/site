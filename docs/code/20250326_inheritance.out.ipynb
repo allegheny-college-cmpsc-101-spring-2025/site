{
  "cells": [
    {
      "cell_type": "markdown",
      "metadata": {},
      "source": [
        "# \n",
        "\n",
        "<figure>\n",
        "<a\n",
        "href=\"https://githubtocolab.com/allegheny-college-cmpsc-101-spring-2025/site/blob/main/code/20250326_inheritance.ipynb\"><img\n",
        "src=\"https://colab.research.google.com/assets/colab-badge.svg\"\n",
        "alt=\"Open In Colab\" /></a>\n",
        "<figcaption>Open In Colab</figcaption>\n",
        "</figure>\n",
        "\n",
        "# Define Classes that Inherit from Vehicle"
      ],
      "id": "90355524-7193-4dff-9e94-64688ea8664b"
    },
    {
      "cell_type": "code",
      "execution_count": null,
      "metadata": {},
      "outputs": [],
      "source": [
        "class Vehicle():\n",
        "  \"\"\"Abstract data type representing a vehicle.\"\"\"\n",
        "\n",
        "  def __init__(self, num_seats: int, num_doors: int, engine_type: str):\n",
        "    \"\"\"Define the constructor.\"\"\"\n",
        "    self._seats = num_seats\n",
        "    self._doors = num_doors\n",
        "    self._engine = engine_type\n",
        "    self._mileage = 0.0\n",
        "\n",
        "  def drive(self, num_miles: float):\n",
        "    \"\"\"Add mileage to the vehicle.\"\"\"\n",
        "    self._mileage += num_miles\n",
        "    return None\n",
        "\n",
        "  def mileage(self):\n",
        "    \"\"\"Get the mileage of the vehicle.\"\"\"\n",
        "    return self._mileage\n",
        "\n",
        "  def __repr__(self):\n",
        "    \"\"\"Define the printable representation of the vehicle.\"\"\"\n",
        "    return f\"{self._engine} vehicle with {self._seats} seats, \" +\\\n",
        "           f\"{self._doors} doors, and {self._mileage} miles.\""
      ],
      "id": "cell-2"
    },
    {
      "cell_type": "code",
      "execution_count": null,
      "metadata": {},
      "outputs": [],
      "source": [
        "# A Bicycle IS A Vehicle\n",
        "# (go with me on this)\n",
        "\n",
        "class Bicycle(Vehicle):\n",
        "  def __init__(self):\n",
        "    Vehicle.__init__(self, num_seats=1, num_doors=0, engine_type=\"human\")\n",
        "\n",
        "  def ride(self, num_miles: float):\n",
        "    \"\"\"Add milage to the bike.\"\"\"\n",
        "    self._mileage += num_miles\n",
        "\n",
        "  def __repr__(self):\n",
        "    \"\"\"Redefine the printable representation for convenience.\"\"\"\n",
        "    return f\"I'm a bike, my engine is a {self._engine}.... but also {Vehicle.__repr__(self)}\"\n"
      ],
      "id": "cell-3"
    },
    {
      "cell_type": "code",
      "execution_count": null,
      "metadata": {},
      "outputs": [],
      "source": [
        "# A Car IS A Vehicle\n",
        "\n",
        "# TODO: Make a car class that inherits from Vehicle\n",
        "# TODO: add attributes of make and model to the constructor"
      ],
      "id": "cell-4"
    },
    {
      "cell_type": "code",
      "execution_count": null,
      "metadata": {},
      "outputs": [],
      "source": [
        "# TODO: Can you think of something that could inherit from Bicycle?"
      ],
      "id": "cell-5"
    },
    {
      "cell_type": "markdown",
      "metadata": {},
      "source": [
        "# Make Objects and Use Methods"
      ],
      "id": "15dfbd7c-bbee-47ed-ac6f-980d74829e11"
    },
    {
      "cell_type": "code",
      "execution_count": null,
      "metadata": {
        "outputId": "4762b76f-c2b9-440d-af9b-c8465f751ceb"
      },
      "outputs": [
        {
          "output_type": "stream",
          "name": "stdout",
          "text": [
            "steam vehicle with 6 seats, 4 doors, and 300.0 miles."
          ]
        }
      ],
      "source": [
        "vehicle = Vehicle(6,4,\"steam\")\n",
        "vehicle.drive(300)\n",
        "print(vehicle)"
      ],
      "id": "cell-7"
    },
    {
      "cell_type": "code",
      "execution_count": null,
      "metadata": {},
      "outputs": [],
      "source": [
        "# TODO: make a bike\n",
        "# TODO: ride the bike\n",
        "# TODO: get the text representation of the bike\n",
        "\n",
        "# TODO: what happens if you try to drive the bike and print again?"
      ],
      "id": "cell-8"
    },
    {
      "cell_type": "code",
      "execution_count": null,
      "metadata": {},
      "outputs": [],
      "source": [
        "# TODO: make a car\n",
        "# TODO: drive the car\n",
        "# TODO: get the text representation of the car\n",
        "\n",
        "# TODO: what happens if you try to ride the car and print again?"
      ],
      "id": "cell-9"
    },
    {
      "cell_type": "markdown",
      "metadata": {},
      "source": [
        "# Use getattr"
      ],
      "id": "1e6a29a2-3aec-462b-b037-a0f5aa90e92d"
    },
    {
      "cell_type": "code",
      "execution_count": null,
      "metadata": {},
      "outputs": [],
      "source": [
        "# getattr looks up an attribute by using a string instead of dot notation.\n",
        "# it turns a string into code!!!!!\n",
        "\n",
        "mileage_attribute_handle = getattr(vehicle, \"mileage\")\n",
        "print(\"about to print the mileage attribute handle\")\n",
        "print(\"\\t\", mileage_attribute_handle)\n",
        "print(\"about to call the mileage attribute handle\")\n",
        "result = mileage_attribute_handle()\n",
        "print(\"about to print result\")\n",
        "print(\"\\t\", result)"
      ],
      "id": "cell-11"
    },
    {
      "cell_type": "markdown",
      "metadata": {},
      "source": [
        "# Implement a bespoke version of getattr"
      ],
      "id": "194a116d-274e-4839-bd55-82feeb46a225"
    },
    {
      "cell_type": "code",
      "execution_count": null,
      "metadata": {},
      "outputs": [],
      "source": [
        "def my_getattr(object: Vehicle, string: str):\n",
        "    if string == \"mileage\":\n",
        "        return object.mileage\n",
        "    else:\n",
        "        return \"your string is either not an attribute, or the attribute is private!\"\n"
      ],
      "id": "cell-13"
    },
    {
      "cell_type": "code",
      "execution_count": null,
      "metadata": {},
      "outputs": [],
      "source": [
        "# call the bespoke version with a valid input\n",
        "\n",
        "bespoke_mileage_attribute_handle = my_getattr(vehicle, \"mileage\")\n",
        "print(\"about to print the bespoke mileage attribute handle\")\n",
        "print(\"\\t\", bespoke_mileage_attribute_handle)\n",
        "print(\"about to call the bespoke mileage attribute handle\")\n",
        "result = bespoke_mileage_attribute_handle()\n",
        "print(\"about to print result\")\n",
        "print(\"\\t\", result)"
      ],
      "id": "cell-14"
    },
    {
      "cell_type": "code",
      "execution_count": null,
      "metadata": {},
      "outputs": [],
      "source": [
        "# TODO: call the bespoke version with an invalid input\n"
      ],
      "id": "cell-15"
    }
  ],
  "nbformat": 4,
  "nbformat_minor": 5,
  "metadata": {
    "colab": {
      "provenance": []
    },
    "kernelspec": {
      "name": "python3",
      "display_name": "Python 3",
      "language": "python"
    },
    "language_info": {
      "name": "python"
    }
  }
}