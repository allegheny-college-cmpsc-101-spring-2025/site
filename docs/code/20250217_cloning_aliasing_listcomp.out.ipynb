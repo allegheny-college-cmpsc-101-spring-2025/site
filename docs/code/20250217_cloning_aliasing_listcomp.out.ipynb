{
  "cells": [
    {
      "cell_type": "markdown",
      "metadata": {},
      "source": [
        "# \n",
        "\n",
        "<figure>\n",
        "<a\n",
        "href=\"https://githubtocolab.com/allegheny-college-cmpsc-101-spring-2025/site/blob/main/code/20250217_cloning_aliasing_listcomp.ipynb\"><img\n",
        "src=\"https://colab.research.google.com/assets/colab-badge.svg\"\n",
        "alt=\"Open In Colab\" /></a>\n",
        "<figcaption>Open In Colab</figcaption>\n",
        "</figure>\n",
        "\n",
        "# Cloning and Aliasing"
      ],
      "id": "d8d7ebf0-97a6-4037-9615-9e659ace5bb6"
    },
    {
      "cell_type": "code",
      "execution_count": null,
      "metadata": {},
      "outputs": [],
      "source": [
        "elem1 = 'apple' # a is a string object \"apple\"\n",
        "elem2 = 'bear' # b is string object \"bear\"\n",
        "\n",
        "a = [elem1,elem2] # a is name of the list that points to the objects that are already in memory\n",
        "b = a # b points to the SAME list in memory!\n",
        "\n",
        "print(a)\n",
        "print(b)\n",
        "\n",
        "print(\"id(a)\", id(a))\n",
        "print(\"id(b)\", id(b))\n",
        "\n",
        "print(\"id(a[0])\", id(a[0]))\n",
        "print(\"id(b[0])\", id(b[0]))\n",
        "print(\"id(elem1)\", id(elem1))\n"
      ],
      "id": "cell-3"
    },
    {
      "cell_type": "code",
      "execution_count": null,
      "metadata": {},
      "outputs": [],
      "source": [
        "elem1 = 'apple' # a is a string object \"apple\"\n",
        "elem2 = 'bear' # b is a string object \"bear\"\n",
        "\n",
        "a = [elem1,elem2] # a is name of the list that points to the objects that are already in memory\n",
        "b = a # b points to the SAME list in memory!\n",
        "a.append('cat')\n",
        "\n",
        "print(a)\n",
        "print(b)\n",
        "\n",
        "print(\"id(a)\", id(a))\n",
        "print(\"id(b)\", id(b))\n",
        "\n",
        "print(\"id(a[0])\", id(a[0]))\n",
        "print(\"id(b[0])\", id(b[0]))\n",
        "print(\"id(elem1)\", id(elem1))"
      ],
      "id": "cell-4"
    },
    {
      "cell_type": "code",
      "execution_count": null,
      "metadata": {},
      "outputs": [],
      "source": [
        "elem1 = 'apple' # a is a string object \"apple\"\n",
        "elem2 = 'bear' # b is a string object \"bear\"\n",
        "\n",
        "a = [elem1,elem2] # a is name of the list that points to the objects that are already in memory\n",
        "b = a[:] # b is a shallow copy\n",
        "a.append('cat')\n",
        "\n",
        "print(a)\n",
        "print(b)\n",
        "\n",
        "print(\"id(a)\", id(a))\n",
        "print(\"id(b)\", id(b))\n",
        "\n",
        "print(\"id(a[0])\", id(a[0]))\n",
        "print(\"id(b[0])\", id(b[0]))\n",
        "print(\"id(elem1)\", id(elem1))\n"
      ],
      "id": "cell-5"
    },
    {
      "cell_type": "code",
      "execution_count": null,
      "metadata": {},
      "outputs": [],
      "source": [
        "elem1 = 'apple' # a is a string object \"apple\"\n",
        "elem2 = 'bear' # b is a string object \"bear\"\n",
        "\n",
        "a = [elem1,elem2] # a is name of the list that points to the objects that are already in memory\n",
        "b = a.copy() # b is a shallow copy\n",
        "a.append('cat')\n",
        "\n",
        "print(a)\n",
        "print(b)\n",
        "\n",
        "print(\"id(a)\", id(a))\n",
        "print(\"id(b)\", id(b))\n",
        "\n",
        "print(\"id(a[0])\", id(a[0]))\n",
        "print(\"id(b[0])\", id(b[0]))\n",
        "print(\"id(elem1)\", id(elem1))"
      ],
      "id": "cell-6"
    },
    {
      "cell_type": "code",
      "execution_count": null,
      "metadata": {},
      "outputs": [],
      "source": [
        "elem1 = ['apple'] # a is a list object with a string inside [\"apple\"]\n",
        "elem2 = ['bear'] # b is a list object with a string inside [\"bear\"]\n",
        "\n",
        "a = [elem1,elem2] # a is name of the list that points to the objects that are already in memory\n",
        "b = a[:] # b is a shallow copy\n",
        "a.append(['cat'])\n",
        "\n",
        "print(a)\n",
        "print(b)\n",
        "\n",
        "print(\"id(a)\", id(a))\n",
        "print(\"id(b)\", id(b))\n",
        "\n",
        "print(\"id(a[0])\", id(a[0]))\n",
        "print(\"id(b[0])\", id(b[0]))\n",
        "print(\"id(elem1)\", id(elem1))"
      ],
      "id": "cell-7"
    },
    {
      "cell_type": "code",
      "execution_count": null,
      "metadata": {},
      "outputs": [],
      "source": [
        "elem1 = ['apple'] # a is a list object with a string inside [\"apple\"]\n",
        "elem2 = ['bear'] # b is a list object with a string inside [\"bear\"]\n",
        "\n",
        "a = [elem1,elem2] # a is name of the list that points to the objects that are already in memory\n",
        "b = a[:] # b is a shallow copy\n",
        "a[0].append(['cat'])\n",
        "\n",
        "print(a)\n",
        "print(b)\n",
        "\n",
        "print(\"id(a)\", id(a))\n",
        "print(\"id(b)\", id(b))\n",
        "\n",
        "print(\"id(a[0])\", id(a[0]))\n",
        "print(\"id(b[0])\", id(b[0]))\n",
        "print(\"id(elem1)\", id(elem1))"
      ],
      "id": "cell-8"
    },
    {
      "cell_type": "code",
      "execution_count": null,
      "metadata": {},
      "outputs": [],
      "source": [
        "import copy\n",
        "\n",
        "elem1 = ['apple'] # a is a list object with a string inside [\"apple\"]\n",
        "elem2 = ['bear'] # b is a list object with a string inside [\"bear\"]\n",
        "\n",
        "a = [elem1,elem2] # a is name of the list that points to the objects that are already in memory\n",
        "b = copy.deepcopy(a) # b is a deep copy\n",
        "a.append(['cat'])\n",
        "\n",
        "print(a)\n",
        "print(b)\n",
        "\n",
        "print(\"id(a)\", id(a))\n",
        "print(\"id(b)\", id(b))\n",
        "\n",
        "print(\"id(a[0])\", id(a[0]))\n",
        "print(\"id(b[0])\", id(b[0]))\n",
        "print(\"id(elem1)\", id(elem1))"
      ],
      "id": "cell-9"
    },
    {
      "cell_type": "code",
      "execution_count": null,
      "metadata": {},
      "outputs": [],
      "source": [
        "import copy\n",
        "\n",
        "elem1 = ['apple'] # a is a list object with a string inside [\"apple\"]\n",
        "elem2 = ['bear'] # b is a list object with a string inside [\"bear\"]\n",
        "\n",
        "a = [elem1,elem2] # a is name of the list that points to the objects that are already in memory\n",
        "b = copy.deepcopy(a) # b is a deep copy\n",
        "a[0].append(['cat'])\n",
        "\n",
        "print(a)\n",
        "print(b)\n",
        "\n",
        "print(\"id(a)\", id(a))\n",
        "print(\"id(b)\", id(b))\n",
        "\n",
        "print(\"id(a[0])\", id(a[0]))\n",
        "print(\"id(b[0])\", id(b[0]))\n",
        "print(\"id(elem1)\", id(elem1))"
      ],
      "id": "cell-10"
    },
    {
      "cell_type": "code",
      "execution_count": null,
      "metadata": {},
      "outputs": [],
      "source": [
        "# What is the difference between and shallow and deep copy?"
      ],
      "id": "cell-11"
    },
    {
      "cell_type": "markdown",
      "metadata": {},
      "source": [
        "# List Comprehensions"
      ],
      "id": "2bba5e69-c34f-4e20-b8cb-594ce8dddcc2"
    },
    {
      "cell_type": "code",
      "execution_count": null,
      "metadata": {},
      "outputs": [],
      "source": [
        "[e**2 for e in range(6)]"
      ],
      "id": "cell-13"
    },
    {
      "cell_type": "code",
      "execution_count": null,
      "metadata": {},
      "outputs": [],
      "source": [
        "[e**2 for e in range(8) if e%2 == 0]"
      ],
      "id": "cell-14"
    },
    {
      "cell_type": "code",
      "execution_count": null,
      "metadata": {},
      "outputs": [],
      "source": [
        "# write a list comprehension that contains the elements 3 through 18 including 18"
      ],
      "id": "cell-15"
    },
    {
      "cell_type": "code",
      "execution_count": null,
      "metadata": {},
      "outputs": [],
      "source": [
        "# write a list comprehension that contains the only odd number 3 through 18"
      ],
      "id": "cell-16"
    },
    {
      "cell_type": "code",
      "execution_count": null,
      "metadata": {},
      "outputs": [],
      "source": [
        "# write a list comprehension that contains 12 random numbers, where the random numbers are between 4 and 40\n",
        "\n",
        "from random import randint\n"
      ],
      "id": "cell-17"
    },
    {
      "cell_type": "code",
      "execution_count": null,
      "metadata": {},
      "outputs": [],
      "source": [
        "# write a list comprehension that contains 12 random numbers, where the random numbers are between 4 and 40\n",
        "# then convert the result to a tuple\n",
        "\n",
        "from random import randint"
      ],
      "id": "cell-18"
    }
  ],
  "nbformat": 4,
  "nbformat_minor": 5,
  "metadata": {
    "colab": {
      "provenance": []
    },
    "kernelspec": {
      "name": "python3",
      "display_name": "Python 3",
      "language": "python"
    },
    "language_info": {
      "name": "python"
    }
  }
}