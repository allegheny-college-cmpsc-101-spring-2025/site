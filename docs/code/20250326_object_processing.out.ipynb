{
  "cells": [
    {
      "cell_type": "markdown",
      "metadata": {},
      "source": [
        "# \n",
        "\n",
        "<figure>\n",
        "<a\n",
        "href=\"https://githubtocolab.com/allegheny-college-cmpsc-101-spring-2025/site/blob/main/code/20250326_object_processing.ipynb\"><img\n",
        "src=\"https://colab.research.google.com/assets/colab-badge.svg\"\n",
        "alt=\"Open In Colab\" /></a>\n",
        "<figcaption>Open In Colab</figcaption>\n",
        "</figure>\n",
        "\n",
        "## Definitions"
      ],
      "id": "289da6c3-ed7d-4f6c-a6e4-71ebdf58e19d"
    },
    {
      "cell_type": "code",
      "execution_count": null,
      "metadata": {},
      "outputs": [],
      "source": [
        "# define a person class\n",
        "\n",
        "from typing import List\n",
        "\n",
        "class Person:\n",
        "    \"\"\"Define a Person class.\"\"\"\n",
        "\n",
        "    def __init__(self, name: str, residence: str, cell: str, profession: str, email: str) -> None:\n",
        "        \"\"\"Define the constructor for a person.\"\"\"\n",
        "        self.name = name\n",
        "        self.residence = residence\n",
        "        self.cell = cell\n",
        "        self.profession = profession\n",
        "        self.email = email\n",
        "\n",
        "    def __repr__(self) -> str:\n",
        "        \"\"\"Define human-readable representation of the person.\"\"\"\n",
        "        return f\"{self.name} is a {self.profession} who lives in {self.residence}. You can call this person at {self.cell} and email them at {self.email}\"\n",
        "\n",
        "    def create_list(self) -> List[str]:\n",
        "        \"\"\"Create a list of strings representing the person.\"\"\"\n",
        "        details = []\n",
        "        details.append(self.name)\n",
        "        details.append(self.residence)\n",
        "        details.append(self.cell)\n",
        "        details.append(self.profession)\n",
        "        details.append(self.email)\n",
        "        return details"
      ],
      "id": "cell-2"
    },
    {
      "cell_type": "code",
      "execution_count": null,
      "metadata": {},
      "outputs": [],
      "source": [
        "# define other useful functions\n",
        "\n",
        "def find_matching_people(attribute: str, search_term: str, list_of_persons: List[Person]) -> List[Person]:\n",
        "    \"\"\"Collect all matching persons into a new list.\"\"\"\n",
        "    list_of_matching_persons = []\n",
        "    for current_person in list_of_persons:\n",
        "      if search_term in getattr(current_person, attribute): # https://docs.python.org/3/library/functions.html#getattr\n",
        "            list_of_matching_persons.append(current_person)\n",
        "    return list_of_matching_persons\n",
        "\n",
        "\n",
        "def create_display_text(list_of_persons: List[Person]) -> str:\n",
        "    \"\"\"Convert list of persons into a string with pretty formatting.\"\"\"\n",
        "    display_text = \"\"\n",
        "    for current_person in list_of_persons:\n",
        "      display_text += \"- \" + str(current_person) + \"\\n\"\n",
        "    return display_text"
      ],
      "id": "cell-3"
    },
    {
      "cell_type": "markdown",
      "metadata": {},
      "source": [
        "## Usage"
      ],
      "id": "8b57e629-3467-4405-80ca-368b13dd869b"
    },
    {
      "cell_type": "code",
      "execution_count": null,
      "metadata": {},
      "outputs": [],
      "source": [
        "# create instances of the person class\n",
        "p1 = Person(\"Emily Graber\", \"USA\", \"0123456789\", \"Musician\", \"egraber@allegheny.edu\")\n",
        "p2 = Person(\"Emily Graber\", \"USA\", \"0123456789\", \"Student\", \"egraber@allegheny.edu\")\n",
        "p3 = Person(\"Emily Graber\", \"France\", \"0123456789\", \"Student\", \"egraber@allegheny.edu\")\n",
        "p4 = Person(\"Emily Graber\", \"USA\", \"0123456789\", \"Musician\", \"allegheny@allegheny.edu\")"
      ],
      "id": "cell-5"
    },
    {
      "cell_type": "code",
      "execution_count": null,
      "metadata": {},
      "outputs": [],
      "source": [
        "# TODO: create as least 1 additional instance of the Person class of a classmate you do not yet know"
      ],
      "id": "cell-6"
    },
    {
      "cell_type": "code",
      "execution_count": null,
      "metadata": {},
      "outputs": [],
      "source": [
        "# TODO: print out a person and identify which part of the class was responsible for the printout"
      ],
      "id": "cell-7"
    },
    {
      "cell_type": "code",
      "execution_count": null,
      "metadata": {},
      "outputs": [],
      "source": [
        "# TODO: create the list version of a single person using the create_list method and display your results"
      ],
      "id": "cell-8"
    },
    {
      "cell_type": "code",
      "execution_count": null,
      "metadata": {},
      "outputs": [],
      "source": [
        "# TODO: compare the printouts from the two previous cells; why are they different?"
      ],
      "id": "cell-9"
    },
    {
      "cell_type": "code",
      "execution_count": null,
      "metadata": {},
      "outputs": [],
      "source": [
        "# Combine all the people into one large list\n",
        "list_of_person_objects = [p1,p2,p3,p4]\n",
        "print(list_of_person_objects)"
      ],
      "id": "cell-10"
    },
    {
      "cell_type": "code",
      "execution_count": null,
      "metadata": {},
      "outputs": [],
      "source": [
        "# TODO: define variables and write a call to the function `find_matching_people`, and print out the results"
      ],
      "id": "cell-11"
    },
    {
      "cell_type": "code",
      "execution_count": null,
      "metadata": {},
      "outputs": [],
      "source": [
        "# Call create_display_text, then print the results\n",
        "display_text = create_display_text(list_of_person_objects)\n",
        "print(display_text)"
      ],
      "id": "cell-12"
    },
    {
      "cell_type": "code",
      "execution_count": null,
      "metadata": {},
      "outputs": [],
      "source": [
        "# TODO: what are the differences between the printout of the return value of `find_matching_people` and `display_text`?\n",
        "# TODO: what code is called by `str` in `str(current_person)`?"
      ],
      "id": "cell-13"
    }
  ],
  "nbformat": 4,
  "nbformat_minor": 5,
  "metadata": {
    "colab": {
      "provenance": []
    },
    "kernelspec": {
      "name": "python3",
      "display_name": "Python 3",
      "language": "python"
    },
    "language_info": {
      "name": "python"
    }
  }
}