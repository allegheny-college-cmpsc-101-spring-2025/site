{
  "cells": [
    {
      "cell_type": "markdown",
      "metadata": {},
      "source": [
        "# \n",
        "\n",
        "<figure>\n",
        "<a\n",
        "href=\"https://githubtocolab.com/allegheny-college-cmpsc-101-spring-2025/site/blob/main/code/20250210_strings_and_slicing.ipynb\"><img\n",
        "src=\"https://colab.research.google.com/assets/colab-badge.svg\"\n",
        "alt=\"Open In Colab\" /></a>\n",
        "<figcaption>Open In Colab</figcaption>\n",
        "</figure>\n",
        "\n",
        "# strings"
      ],
      "id": "370453ac-5d53-4aec-8c87-89aa0ebf5716"
    },
    {
      "cell_type": "code",
      "execution_count": null,
      "metadata": {},
      "outputs": [],
      "source": [
        "# strings contain charaters\n",
        "a = 'this is a string'\n",
        "digit_string = '1234567890'\n",
        "another_string = '1, 2, 3, 4, 5, 6, 7, 8, 9, 0'\n",
        "empty_string = ''"
      ],
      "id": "cell-3"
    },
    {
      "cell_type": "code",
      "execution_count": null,
      "metadata": {},
      "outputs": [],
      "source": [
        "# strings are indexable, ordered\n",
        "a = 'this is a string'\n",
        "print(a[0])\n",
        "print(a[1])"
      ],
      "id": "cell-4"
    },
    {
      "cell_type": "code",
      "execution_count": null,
      "metadata": {},
      "outputs": [],
      "source": [
        "# strings are immutable\n",
        "a = 'this is a string'\n",
        "a[0] = 'T'"
      ],
      "id": "cell-5"
    },
    {
      "cell_type": "code",
      "execution_count": null,
      "metadata": {},
      "outputs": [],
      "source": [
        "# adding creates an entirely new string\n",
        "a = 'this is a string'\n",
        "another_string = '1, 2, 3, 4, 5, 6, 7, 8, 9, 0'\n",
        "new_string = a + another_string\n",
        "print(new_string)"
      ],
      "id": "cell-6"
    },
    {
      "cell_type": "code",
      "execution_count": null,
      "metadata": {},
      "outputs": [],
      "source": [
        "# loops\n",
        "another_string = '1, 2, 3, 4, 5, 6, 7, 8, 9, 0'\n",
        "\n",
        "for char in another_string:\n",
        "  print(char)"
      ],
      "id": "cell-7"
    },
    {
      "cell_type": "markdown",
      "metadata": {},
      "source": [
        "# slicing"
      ],
      "id": "e7f2bfea-a4b7-41e8-9a2f-53454eeaaee3"
    },
    {
      "cell_type": "code",
      "execution_count": null,
      "metadata": {},
      "outputs": [],
      "source": [
        "a = [0, 'elem1', 'elem2', 3, 'this is the fourth element', '5', '6.0000', 7, 8.0000]\n",
        "# retrieve elements 0 up to 3rd (not including 3rd)\n",
        "print(a[0:3])"
      ],
      "id": "cell-9"
    },
    {
      "cell_type": "code",
      "execution_count": null,
      "metadata": {},
      "outputs": [],
      "source": [
        "a = [0, 'elem1', 'elem2', 3, 'this is the fourth element', '5', '6.0000', 7, 8.0000]\n",
        "# retrieve elements 0 up to 8th (not including 8th), in step size of 2\n",
        "print(a[0:8:2])"
      ],
      "id": "cell-10"
    },
    {
      "cell_type": "code",
      "execution_count": null,
      "metadata": {},
      "outputs": [],
      "source": [
        "a = [0, 'elem1', 'elem2', 3, 'this is the fourth element', '5', '6.0000', 7, 8.0000]\n",
        "# retrieve elements 5 up to 8th (including 8th)\n",
        "print(a[5:])"
      ],
      "id": "cell-11"
    },
    {
      "cell_type": "code",
      "execution_count": null,
      "metadata": {},
      "outputs": [],
      "source": [
        "a = [0, 'elem1', 'elem2', 3, 'this is the fourth element', '5', '6.0000', 7, 8.0000]\n",
        "# retrieve elements 2 up to 2nd to last (not including 2nd to last)\n",
        "print(a[2:-2])"
      ],
      "id": "cell-12"
    },
    {
      "cell_type": "code",
      "execution_count": null,
      "metadata": {},
      "outputs": [],
      "source": [
        "a = [0, 'elem1', 'elem2', 3, 'this is the fourth element', '5', '6.0000', 7, 8.0000]\n",
        "# retrieve elements from end to 0 (not including 0) backward (step size -1)\n",
        "print(a[:0:-1])"
      ],
      "id": "cell-13"
    },
    {
      "cell_type": "code",
      "execution_count": null,
      "metadata": {},
      "outputs": [],
      "source": [
        "a = [0, 'elem1', 'elem2', 3, 'this is the fourth element', '5', '6.0000', 7, 8.0000]\n",
        "# retrieve elements from end to 0 (including 0) backward (step size -1)\n",
        "print(a[::-1])"
      ],
      "id": "cell-14"
    },
    {
      "cell_type": "code",
      "execution_count": null,
      "metadata": {},
      "outputs": [],
      "source": [
        "a = [0, 'elem1', 'elem2', 3, 'this is the fourth element', '5', '6.0000', 7, 8.0000]\n",
        "# retrieve a string and do further indexing\n",
        "print(a[4][8:-8])\n"
      ],
      "id": "cell-15"
    },
    {
      "cell_type": "markdown",
      "metadata": {},
      "source": [
        "# pretty print"
      ],
      "id": "95cf77b4-6e55-4aec-ab30-d0926fc8d958"
    },
    {
      "cell_type": "code",
      "execution_count": null,
      "metadata": {},
      "outputs": [],
      "source": [
        "from typing import Iterable\n",
        "\n",
        "def prettyprint(values: Iterable[int]) -> str:\n",
        "  return str(values)[1:-1]\n",
        "\n",
        "\n",
        "my_divisors = [1, 97]\n",
        "print(f\"not pretty divisors are: {my_divisors}\")\n",
        "print(f\"pretty divisors are: {prettyprint(my_divisors)}\")"
      ],
      "id": "cell-17"
    }
  ],
  "nbformat": 4,
  "nbformat_minor": 5,
  "metadata": {
    "colab": {
      "provenance": []
    },
    "kernelspec": {
      "name": "python3",
      "display_name": "Python 3",
      "language": "python"
    },
    "language_info": {
      "name": "python"
    }
  }
}