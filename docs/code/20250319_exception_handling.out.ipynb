{
  "cells": [
    {
      "cell_type": "markdown",
      "metadata": {},
      "source": [
        "# \n",
        "\n",
        "<figure>\n",
        "<a\n",
        "href=\"https://githubtocolab.com/allegheny-college-cmpsc-101-spring-2025/site/blob/main/code/20250319_exception_handling.ipynb\"><img\n",
        "src=\"https://colab.research.google.com/assets/colab-badge.svg\"\n",
        "alt=\"Open In Colab\" /></a>\n",
        "<figcaption>Open In Colab</figcaption>\n",
        "</figure>\n",
        "\n",
        "# Exception Handling - Guttag Chapter 9\n",
        "\n",
        "## The code below crashes"
      ],
      "id": "86f0fdf9-2f83-47c7-adcb-76d4112719a4"
    },
    {
      "cell_type": "code",
      "execution_count": null,
      "metadata": {},
      "outputs": [],
      "source": [
        "print(hello)"
      ],
      "id": "cell-3"
    },
    {
      "cell_type": "code",
      "execution_count": null,
      "metadata": {},
      "outputs": [],
      "source": [
        "print(1+'a')"
      ],
      "id": "cell-4"
    },
    {
      "cell_type": "code",
      "execution_count": null,
      "metadata": {},
      "outputs": [],
      "source": [
        "print(10 = 10)"
      ],
      "id": "cell-5"
    },
    {
      "cell_type": "code",
      "execution_count": null,
      "metadata": {},
      "outputs": [],
      "source": [
        "open(\"non-existant-file.csv\")"
      ],
      "id": "cell-6"
    },
    {
      "cell_type": "code",
      "execution_count": null,
      "metadata": {},
      "outputs": [],
      "source": [
        "# check if a is divisible by b\n",
        "\n",
        "def is_divisible(a, b) -> bool:\n",
        "  \"\"\"Check if a is divisible by b.\"\"\"\n",
        "  return a % b == 0\n",
        "\n",
        "\n",
        "print(is_divisible(0,0))"
      ],
      "id": "cell-7"
    },
    {
      "cell_type": "markdown",
      "metadata": {},
      "source": [
        "## The code below runs!"
      ],
      "id": "1109fd3c-8744-4296-b78f-c09cc07255d1"
    },
    {
      "cell_type": "code",
      "execution_count": null,
      "metadata": {
        "outputId": "6f224b99-7873-4104-c38e-292610133695"
      },
      "outputs": [
        {
          "output_type": "stream",
          "name": "stdout",
          "text": [
            "something above is not working correctly, but the code will keep running anyway!"
          ]
        }
      ],
      "source": [
        "try:\n",
        "  print(hello)\n",
        "except NameError:\n",
        "  print(\"something above is not working correctly, but the code will keep running anyway!\")\n"
      ],
      "id": "cell-9"
    },
    {
      "cell_type": "code",
      "execution_count": null,
      "metadata": {
        "outputId": "05382150-93cd-4c46-ae84-ad52bf68485a"
      },
      "outputs": [
        {
          "output_type": "stream",
          "name": "stdout",
          "text": [
            "name 'hello' is not defined"
          ]
        }
      ],
      "source": [
        "try:\n",
        "  print(hello)\n",
        "except NameError as msg:\n",
        "  print(msg)\n"
      ],
      "id": "cell-10"
    },
    {
      "cell_type": "markdown",
      "metadata": {},
      "source": [
        "## These exceptions are intentional"
      ],
      "id": "ea8734f9-bffd-4514-851f-fb3abfb291af"
    },
    {
      "cell_type": "code",
      "execution_count": null,
      "metadata": {},
      "outputs": [],
      "source": [
        "result = None\n",
        "\n",
        "if result is None:\n",
        "  raise ValueError"
      ],
      "id": "cell-12"
    },
    {
      "cell_type": "code",
      "execution_count": null,
      "metadata": {},
      "outputs": [],
      "source": [
        "result = None\n",
        "assert result is True\n"
      ],
      "id": "cell-13"
    },
    {
      "cell_type": "markdown",
      "metadata": {},
      "source": [
        "## Larger Example of Exception Handling"
      ],
      "id": "14995f71-744f-4e33-815c-0e9105b8e65b"
    },
    {
      "cell_type": "code",
      "execution_count": null,
      "metadata": {},
      "outputs": [],
      "source": [
        "# define a function that computes the ratios of the floats\n",
        "# inside of two input lists and then creates an output list\n",
        "from typing import List\n",
        "\n",
        "def get_ratios(one: List, two: List) -> List[float]:\n",
        "    ratios = []\n",
        "    for index in range(len(one)):\n",
        "        try:\n",
        "            ratios.append(one[index] / two[index])\n",
        "        except ZeroDivisionError:\n",
        "            ratios.append(float('nan'))\n",
        "        except:\n",
        "            raise ValueError(\"Incorrect arguments\")\n",
        "    return ratios"
      ],
      "id": "cell-16"
    },
    {
      "cell_type": "code",
      "execution_count": null,
      "metadata": {},
      "outputs": [],
      "source": [
        "# run the get_ratios function with exception handling\n",
        "try:\n",
        "    print(get_ratios([1, 2, 7, 6], [1, 2, 0, 3]))\n",
        "    print(get_ratios([], []))\n",
        "    print(get_ratios([1, 2, 7], [1, 2, 10, 3]))\n",
        "    print(get_ratios([1, 2, 7, 6], [1, 2, 10]))\n",
        "except ValueError as message:\n",
        "    print(message)"
      ],
      "id": "cell-17"
    },
    {
      "cell_type": "code",
      "execution_count": null,
      "metadata": {},
      "outputs": [],
      "source": [
        "# run the get_ratios function without exception handling\n",
        "print(get_ratios([1, 2, 7, 6], [1, 2, 0, 3]))\n",
        "print(get_ratios([], []))\n",
        "print(get_ratios([1, 2, 7], [1, 2, 10, 3]))\n",
        "print(get_ratios([1, 2, 7, 6], [1, 2, 10]))"
      ],
      "id": "cell-18"
    }
  ],
  "nbformat": 4,
  "nbformat_minor": 5,
  "metadata": {
    "colab": {
      "provenance": []
    },
    "kernelspec": {
      "name": "python3",
      "display_name": "Python 3",
      "language": "python"
    },
    "language_info": {
      "name": "python"
    }
  }
}