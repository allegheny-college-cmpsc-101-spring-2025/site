{
  "cells": [
    {
      "cell_type": "markdown",
      "metadata": {},
      "source": [
        "# \n",
        "\n",
        "<figure>\n",
        "<a\n",
        "href=\"https://githubtocolab.com/allegheny-college-cmpsc-101-spring-2025/site/blob/main/code/20250414_data_structures.ipynb\"><img\n",
        "src=\"https://colab.research.google.com/assets/colab-badge.svg\"\n",
        "alt=\"Open In Colab\" /></a>\n",
        "<figcaption>Open In Colab</figcaption>\n",
        "</figure>\n",
        "\n",
        "## Matrix"
      ],
      "id": "a9c6756d-d857-4145-addc-508942f753ab"
    },
    {
      "cell_type": "code",
      "execution_count": null,
      "metadata": {
        "outputId": "cbd3a15e-5b72-4502-bc4d-1ad5fda78d70"
      },
      "outputs": [
        {
          "output_type": "stream",
          "name": "stdout",
          "text": [
            "[[59, -78, 95, 25, 33, 18, -45, 14, 29, -89], [86, 83, 68, 99, 86, -33, -85, 78, 66, -96], [79, -92, -29, -60, 29, 7, -76, -30, 47, 11], [-37, 66, -98, 84, -27, 51, -85, 34, -99, 68], [-99, 25, 61, -83, -28, -26, -98, 38, -53, -93], [-81, 62, -8, 99, -62, 59, -6, 65, -94, 14], [30, -19, 96, 69, -31, -63, 69, 63, 39, -64], [-14, -49, 74, -7, -84, 51, 60, -92, -36, 88], [54, -70, 44, -80, 90, -94, -13, -99, -31, 35], [-22, -70, -59, -23, 75, -17, 8, -65, -58, 39]]"
          ]
        }
      ],
      "source": [
        "import random\n",
        "\n",
        "matrix = []\n",
        "for i in range(10):\n",
        "  matrix.append([])\n",
        "  for j in range(10):\n",
        "    matrix[i].append(random.randint(-100,100))\n",
        "\n",
        "print(matrix)"
      ],
      "id": "cell-2"
    },
    {
      "cell_type": "code",
      "execution_count": null,
      "metadata": {
        "outputId": "bde54b65-fa95-4e34-e978-f845775803de"
      },
      "outputs": [
        {
          "output_type": "stream",
          "name": "stdout",
          "text": [
            "there are 48 even numbers in the matrix"
          ]
        }
      ],
      "source": [
        "# count how many even numbers in matrix\n",
        "counter = 0\n",
        "\n",
        "for i in range(len(matrix)):\n",
        "  for j in range(len(matrix[i])):\n",
        "    # do something with matrix[i][j]\n",
        "    if matrix[i][j] % 2 == 0:\n",
        "      counter += 1\n",
        "\n",
        "\n",
        "print(f\"there are {counter} even numbers in the matrix\")"
      ],
      "id": "cell-3"
    },
    {
      "cell_type": "code",
      "execution_count": null,
      "metadata": {},
      "outputs": [],
      "source": [
        "# TODO: write an algorithm to count the numbers greater than 5 in the matrix"
      ],
      "id": "cell-4"
    },
    {
      "cell_type": "markdown",
      "metadata": {},
      "source": [
        "## Dictionary"
      ],
      "id": "48203c58-3964-43c7-8f1c-dbbd6601fdfe"
    },
    {
      "cell_type": "code",
      "execution_count": null,
      "metadata": {},
      "outputs": [],
      "source": [
        "# create a dictionary\n",
        "mlb_team_one = {\n",
        "    'Colorado' : 'Rockies',\n",
        "    'Boston'   : 'Red Sox',\n",
        "    'Minnesota': 'Twins',\n",
        "    'Milwaukee': 'Brewers'\n",
        "}"
      ],
      "id": "cell-6"
    },
    {
      "cell_type": "code",
      "execution_count": null,
      "metadata": {},
      "outputs": [],
      "source": [
        "# create a dictionary\n",
        "mlb_team_three = dict(\n",
        "    Colorado='Rockies',\n",
        "    Boston='Red Sox',\n",
        "    Minnesota='Twins',\n",
        "    Milwaukee='Brewers',\n",
        "    Seattle='Mariners'\n",
        ")"
      ],
      "id": "cell-7"
    },
    {
      "cell_type": "code",
      "execution_count": null,
      "metadata": {},
      "outputs": [],
      "source": [
        "# create a dictionary\n",
        "mlb_team_two = dict([\n",
        "    ('Colorado', 'Rockies'),\n",
        "    ('Boston', 'Red Sox'),\n",
        "    ('Minnesota', 'Twins'),\n",
        "    ('Milwaukee', 'Brewers')\n",
        "])"
      ],
      "id": "cell-8"
    },
    {
      "cell_type": "code",
      "execution_count": null,
      "metadata": {
        "outputId": "8055d62c-3cfb-4467-ad43-2ecda32f3c48"
      },
      "outputs": [
        {
          "output_type": "stream",
          "name": "stdout",
          "text": [
            "<class 'dict'>\n",
            "{'Colorado': 'Rockies', 'Boston': 'Red Sox', 'Minnesota': 'Twins', 'Milwaukee': 'Brewers'}\n",
            "Twins\n",
            "Rockies\n",
            "a different string"
          ]
        }
      ],
      "source": [
        "# display and manipulate the contents of a dictionary\n",
        "\n",
        "# display the address\n",
        "print(type(mlb_team_one))\n",
        "\n",
        "# display the contents\n",
        "print(mlb_team_one)\n",
        "\n",
        "# lookup specific values using a key\n",
        "print(mlb_team_one['Minnesota'])\n",
        "print(mlb_team_one['Colorado'])\n",
        "\n",
        "# add a new value to the dictionary\n",
        "mlb_team_one['Kansas City'] = 'Royals'\n",
        "\n",
        "# all keys must be unique\n",
        "mlb_team_one['Kansas City'] = 'a different string'\n",
        "\n",
        "# lookup the new value inside of the dictionary\n",
        "print(mlb_team_one['Kansas City'])"
      ],
      "id": "cell-9"
    },
    {
      "cell_type": "code",
      "execution_count": null,
      "metadata": {},
      "outputs": [],
      "source": [
        "# attempt to access a key that does not exist in a dictionary\n",
        "print(mlb_team_one['Toronto'])"
      ],
      "id": "cell-10"
    },
    {
      "cell_type": "code",
      "execution_count": null,
      "metadata": {},
      "outputs": [],
      "source": [
        "# attempt to use a list as a key\n",
        "key = [1]\n",
        "mlb_team_one[key] = 'Detroit Tigers'"
      ],
      "id": "cell-11"
    },
    {
      "cell_type": "code",
      "execution_count": null,
      "metadata": {},
      "outputs": [],
      "source": [
        "# TODO: access an element from mlb_team_two and from mlb_team_three\n",
        "# TODO: add an element to mlb_team_two and from mlb_team_three, then reexplore the dicts\n",
        "# TODO: overwrite an element in mlb_team_two and reexplore the dict"
      ],
      "id": "cell-12"
    },
    {
      "cell_type": "code",
      "execution_count": null,
      "metadata": {},
      "outputs": [],
      "source": [
        "# TODO: create a new dict and make each key point to a short list\n",
        "# TODO: describe how you think this works"
      ],
      "id": "cell-13"
    },
    {
      "cell_type": "code",
      "execution_count": null,
      "metadata": {},
      "outputs": [],
      "source": [
        "# Discuss with your neighbor\n",
        "\n",
        "# 1) What are the similarities and differences in the ways to create a dictionary?\n",
        "# 2) Do all approaches to creating a dictionary lead to a dictionary with the same state?\n",
        "# 3) How does the Python programming language create and store the (key, value) pairs?\n",
        "# 4) How does the Python programming language lookup a value based on a specific key?"
      ],
      "id": "cell-14"
    },
    {
      "cell_type": "markdown",
      "metadata": {},
      "source": [
        "## Bespoke Dictionary"
      ],
      "id": "2f743629-170f-4a75-aa3a-2e91feb08409"
    },
    {
      "cell_type": "code",
      "execution_count": null,
      "metadata": {},
      "outputs": [],
      "source": [
        "# TODO: try to implement the dictionary yourself\n",
        "\n",
        "# Use a class to make a dictionary\n",
        "# Conceptually, think of the dict as a matrix, i.e. a list of lists\n",
        "# all the data will be stored inside the matrix as tuples of (key, value) pairs\n",
        "# matrix row will be selected by hashing a key\n",
        "# duplicate keys are not allowed\n",
        "\n",
        "# class must have a method to add and entry, i.e. a key value pair\n",
        "# class must have a method to get a value with a key\n",
        "# class must have a method to hash the keys\n",
        "\n",
        "# if more than one key should \"hash\" to the same row, append a new tuple to the row\n"
      ],
      "id": "cell-16"
    },
    {
      "cell_type": "code",
      "execution_count": null,
      "metadata": {},
      "outputs": [],
      "source": [
        "# Solution based on Figure 12.7 in Introduction to Computation and Programming Using Python\n",
        "from typing import Union\n",
        "\n",
        "class Int_Dictionary():\n",
        "    \"\"\"Define a dictionary that only has integer keys, suitable for demonstration purposes.\"\"\"\n",
        "\n",
        "    def __init__(self, size: int) -> None:\n",
        "        \"\"\"Construct an empty dictionary that uses a backing list called buckets.\"\"\"\n",
        "        # create the outer container of a matrix\n",
        "        self.matrix = []\n",
        "        # create an attribute for the requested number of rows (size)\n",
        "        self.num_rows = size\n",
        "        # loop through rows\n",
        "        for i in range(self.num_rows):\n",
        "            # add empty rows to the matrix\n",
        "            self.matrix.append([])\n",
        "\n",
        "    def _hash(self, key) -> int:\n",
        "      # figure out which row to use given a key\n",
        "      idx = key % self.num_rows\n",
        "      return self.matrix[idx]\n",
        "\n",
        "    def add_entry(self, key: int, value: int) -> None:\n",
        "        \"\"\"Add an entry to the dictionary given the provided key and value.\"\"\"\n",
        "        # hash the key\n",
        "        hash_row = self._hash(key)\n",
        "        # check to ensure that key does not already exists\n",
        "        for i in range(len(hash_row)):\n",
        "            if hash_row[i][0] == key:\n",
        "                # overwrite it!\n",
        "                hash_row[i] = (key, value)\n",
        "                return\n",
        "        # if we are here, the key must not exist yet, so simply append the new tuple\n",
        "        hash_row.append((key, value))\n",
        "\n",
        "    def get_value(self, key: int) -> Union[int, None]:\n",
        "        \"\"\"Return the value associated with the key.\"\"\"\n",
        "        # hash the key\n",
        "        hash_row = self._hash(key)\n",
        "        # iterate through all of the elements in the row,\n",
        "        # looking for a specific element that has a matching key\n",
        "        for kv_pair in hash_row:\n",
        "            # found a matching key, so go ahead and return it\n",
        "            if kv_pair[0] == key:\n",
        "                return kv_pair[1]\n",
        "        # no matching key was found, so return None to indicate\n",
        "        # that the search failed when looking for the specific key\n",
        "        return None\n",
        "\n",
        "    def __repr__(self) -> str:\n",
        "        \"\"\"Define a textual representation for the dictionary.\"\"\"\n",
        "        result = \"{\"\n",
        "        for row in self.matrix:\n",
        "            for kv_pair in row:\n",
        "                result += f\"({kv_pair[0]}, {kv_pair[1]}),\\n \"\n",
        "        return result[:-3] + \"}\""
      ],
      "id": "cell-17"
    },
    {
      "cell_type": "code",
      "execution_count": null,
      "metadata": {},
      "outputs": [],
      "source": [
        "# demonstrate the use of the Int_Dictionary\n",
        "import random\n",
        "\n",
        "integer_dictionary = Int_Dictionary(size = 17)\n",
        "\n",
        "for i in range(20):\n",
        "    # choose a random key\n",
        "    key = random.choice(range(10**5))\n",
        "    # add entry to dict with key value pair\n",
        "    integer_dictionary.add_entry(key, i)\n",
        "\n",
        "print(\"Contents of the Int_Dictionary:\")\n",
        "print(integer_dictionary)"
      ],
      "id": "cell-18"
    },
    {
      "cell_type": "code",
      "execution_count": null,
      "metadata": {},
      "outputs": [],
      "source": [
        "# reveal the contents inside of the rows\n",
        "# note that this breaks the abstraction barrier and reveals the internal contents of the dictionary\n",
        "print(\"The contents of the matrix rows are as follows:\")\n",
        "for row in integer_dictionary.matrix:\n",
        "    print(f\"   {row}\")"
      ],
      "id": "cell-19"
    },
    {
      "cell_type": "code",
      "execution_count": null,
      "metadata": {},
      "outputs": [],
      "source": [
        "# Summary Question: how do you know when a collision has taken place when adding data to the Int_Dictionary?\n",
        "\n",
        "# Task: run this program many times and keep track of how many collisions occur when performing hashing\n",
        "# Task: can you come up with a situation in which the Int_Dictionary never has a collision?\n",
        "\n",
        "# Concluding Question: what are the trade-offs associated with the time efficiency and space overhead of a dictionary?"
      ],
      "id": "cell-20"
    }
  ],
  "nbformat": 4,
  "nbformat_minor": 5,
  "metadata": {
    "colab": {
      "provenance": []
    },
    "kernelspec": {
      "name": "python3",
      "display_name": "Python 3",
      "language": "python"
    },
    "language_info": {
      "name": "python"
    }
  }
}