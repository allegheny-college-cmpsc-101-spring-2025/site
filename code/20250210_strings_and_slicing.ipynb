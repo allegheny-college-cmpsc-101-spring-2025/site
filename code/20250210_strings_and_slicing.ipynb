{
  "cells": [
    {
      "cell_type": "raw",
      "metadata": {
        "vscode": {
          "languageId": "raw"
        }
      },
      "source": [
        "---\n",
        "format: \n",
        "  html:\n",
        "    code-fold: false\n",
        "echo: true\n",
        "output-location: fragment \n",
        "jupyter: python3\n",
        "---"
      ]
    },
    {
      "cell_type": "markdown",
      "metadata": {
        "id": "ZJms1UuN0TvS"
      },
      "source": [
        "[![Open In Colab](https://colab.research.google.com/assets/colab-badge.svg)](https://githubtocolab.com/allegheny-college-cmpsc-101-spring-2025/site/blob/main/code/20250210_strings_and_slicing.ipynb)"
      ]
    },
    {
      "cell_type": "markdown",
      "metadata": {
        "id": "6takZP1A0l1l"
      },
      "source": [
        "# strings"
      ]
    },
    {
      "cell_type": "code",
      "execution_count": null,
      "metadata": {
        "id": "-ZKD734H0nLi"
      },
      "outputs": [],
      "source": [
        "# strings contain charaters\n",
        "a = 'this is a string'\n",
        "digit_string = '1234567890'\n",
        "another_string = '1, 2, 3, 4, 5, 6, 7, 8, 9, 0'\n",
        "empty_string = ''"
      ]
    },
    {
      "cell_type": "code",
      "execution_count": null,
      "metadata": {
        "id": "yQBCrpfz07_5"
      },
      "outputs": [],
      "source": [
        "# strings are indexable, ordered\n",
        "a = 'this is a string'\n",
        "print(a[0])\n",
        "print(a[1])"
      ]
    },
    {
      "cell_type": "code",
      "execution_count": null,
      "metadata": {
        "id": "TTA39Mcj1goo"
      },
      "outputs": [],
      "source": [
        "# strings are immutable\n",
        "a = 'this is a string'\n",
        "a[0] = 'T'"
      ]
    },
    {
      "cell_type": "code",
      "execution_count": null,
      "metadata": {
        "collapsed": true,
        "id": "SYrCtHgN3bq5"
      },
      "outputs": [],
      "source": [
        "# adding creates an entirely new string\n",
        "a = 'this is a string'\n",
        "another_string = '1, 2, 3, 4, 5, 6, 7, 8, 9, 0'\n",
        "new_string = a + another_string\n",
        "print(new_string)"
      ]
    },
    {
      "cell_type": "code",
      "execution_count": null,
      "metadata": {
        "id": "x-2rfEj861z2"
      },
      "outputs": [],
      "source": [
        "# loops\n",
        "another_string = '1, 2, 3, 4, 5, 6, 7, 8, 9, 0'\n",
        "\n",
        "for char in another_string:\n",
        "  print(char)"
      ]
    },
    {
      "cell_type": "markdown",
      "metadata": {
        "id": "XFehmpPbIONJ"
      },
      "source": [
        "# slicing"
      ]
    },
    {
      "cell_type": "code",
      "execution_count": null,
      "metadata": {
        "id": "ZAJ-Ja3TAAG_"
      },
      "outputs": [],
      "source": [
        "a = [0, 'elem1', 'elem2', 3, 'this is the fourth element', '5', '6.0000', 7, 8.0000]\n",
        "# retrieve elements 0 up to 3rd (not including 3rd)\n",
        "print(a[0:3])"
      ]
    },
    {
      "cell_type": "code",
      "execution_count": null,
      "metadata": {
        "id": "ly_M1SOAJJvf"
      },
      "outputs": [],
      "source": [
        "a = [0, 'elem1', 'elem2', 3, 'this is the fourth element', '5', '6.0000', 7, 8.0000]\n",
        "# retrieve elements 0 up to 8th (not including 8th), in step size of 2\n",
        "print(a[0:8:2])"
      ]
    },
    {
      "cell_type": "code",
      "execution_count": null,
      "metadata": {
        "id": "Xwf-Ep7yJ_a8"
      },
      "outputs": [],
      "source": [
        "a = [0, 'elem1', 'elem2', 3, 'this is the fourth element', '5', '6.0000', 7, 8.0000]\n",
        "# retrieve elements 5 up to 8th (including 8th)\n",
        "print(a[5:])"
      ]
    },
    {
      "cell_type": "code",
      "execution_count": null,
      "metadata": {
        "id": "DK5JRqFQL_zn"
      },
      "outputs": [],
      "source": [
        "a = [0, 'elem1', 'elem2', 3, 'this is the fourth element', '5', '6.0000', 7, 8.0000]\n",
        "# retrieve elements 2 up to 2nd to last (not including 2nd to last)\n",
        "print(a[2:-2])"
      ]
    },
    {
      "cell_type": "code",
      "execution_count": null,
      "metadata": {
        "id": "Nt19o_SyKFTz"
      },
      "outputs": [],
      "source": [
        "a = [0, 'elem1', 'elem2', 3, 'this is the fourth element', '5', '6.0000', 7, 8.0000]\n",
        "# retrieve elements from end to 0 (not including 0) backward (step size -1)\n",
        "print(a[:0:-1])"
      ]
    },
    {
      "cell_type": "code",
      "execution_count": null,
      "metadata": {
        "id": "addoYkEnKjk9"
      },
      "outputs": [],
      "source": [
        "a = [0, 'elem1', 'elem2', 3, 'this is the fourth element', '5', '6.0000', 7, 8.0000]\n",
        "# retrieve elements from end to 0 (including 0) backward (step size -1)\n",
        "print(a[::-1])"
      ]
    },
    {
      "cell_type": "code",
      "execution_count": null,
      "metadata": {
        "id": "jiqF9AUoK0Ji"
      },
      "outputs": [],
      "source": [
        "a = [0, 'elem1', 'elem2', 3, 'this is the fourth element', '5', '6.0000', 7, 8.0000]\n",
        "# retrieve a string and do further indexing\n",
        "print(a[4][8:-8])\n"
      ]
    },
    {
      "cell_type": "markdown",
      "metadata": {
        "id": "El-gormhQYwk"
      },
      "source": [
        "# pretty print"
      ]
    },
    {
      "cell_type": "code",
      "execution_count": null,
      "metadata": {
        "id": "wYXfk6cINGT8"
      },
      "outputs": [],
      "source": [
        "from typing import Iterable\n",
        "\n",
        "def prettyprint(values: Iterable[int]) -> str:\n",
        "  return str(values)[1:-1]\n",
        "\n",
        "\n",
        "my_divisors = [1, 97]\n",
        "print(f\"not pretty divisors are: {my_divisors}\")\n",
        "print(f\"pretty divisors are: {prettyprint(my_divisors)}\")"
      ]
    }
  ],
  "metadata": {
    "colab": {
      "provenance": []
    },
    "kernelspec": {
      "display_name": "Python 3",
      "name": "python3"
    },
    "language_info": {
      "name": "python"
    }
  },
  "nbformat": 4,
  "nbformat_minor": 0
}
