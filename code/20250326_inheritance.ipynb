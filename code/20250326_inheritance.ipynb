{
  "nbformat": 4,
  "nbformat_minor": 0,
  "metadata": {
    "colab": {
      "provenance": []
    },
    "kernelspec": {
      "name": "python3",
      "display_name": "Python 3"
    },
    "language_info": {
      "name": "python"
    }
  },
  "cells": [
    {
      "cell_type": "markdown",
      "source": [
        "[![Open In Colab](https://colab.research.google.com/assets/colab-badge.svg)](https://githubtocolab.com/allegheny-college-cmpsc-101-spring-2025/site/blob/main/code/20250326_inheritance.ipynb)"
      ],
      "metadata": {
        "id": "68NwKDOBcO6w"
      }
    },
    {
      "cell_type": "markdown",
      "source": [
        "# Define Classes that Inherit from Vehicle"
      ],
      "metadata": {
        "id": "FMsZSd_YiJX_"
      }
    },
    {
      "cell_type": "code",
      "execution_count": null,
      "metadata": {
        "id": "tm5F6kVncCWp"
      },
      "outputs": [],
      "source": [
        "class Vehicle():\n",
        "  \"\"\"Abstract data type representing a vehicle.\"\"\"\n",
        "\n",
        "  def __init__(self, num_seats: int, num_doors: int, engine_type: str):\n",
        "    \"\"\"Define the constructor.\"\"\"\n",
        "    self._seats = num_seats\n",
        "    self._doors = num_doors\n",
        "    self._engine = engine_type\n",
        "    self._mileage = 0.0\n",
        "\n",
        "  def drive(self, num_miles: float):\n",
        "    \"\"\"Add mileage to the vehicle.\"\"\"\n",
        "    self._mileage += num_miles\n",
        "    return None\n",
        "\n",
        "  def mileage(self):\n",
        "    \"\"\"Get the mileage of the vehicle.\"\"\"\n",
        "    return self._mileage\n",
        "\n",
        "  def __repr__(self):\n",
        "    \"\"\"Define the printable representation of the vehicle.\"\"\"\n",
        "    return f\"{self._engine} vehicle with {self._seats} seats, \" +\\\n",
        "           f\"{self._doors} doors, and {self._mileage} miles.\""
      ]
    },
    {
      "cell_type": "code",
      "source": [
        "# A Bicycle IS A Vehicle\n",
        "# (go with me on this)\n",
        "\n",
        "class Bicycle(Vehicle):\n",
        "  def __init__(self):\n",
        "    Vehicle.__init__(self, num_seats=1, num_doors=0, engine_type=\"human\")\n",
        "\n",
        "  def ride(self, num_miles: float):\n",
        "    \"\"\"Add milage to the bike.\"\"\"\n",
        "    self._mileage += num_miles\n",
        "\n",
        "  def __repr__(self):\n",
        "    \"\"\"Redefine the printable representation for convenience.\"\"\"\n",
        "    return f\"I'm a bike, my engine is a {self._engine}.... but also {Vehicle.__repr__(self)}\"\n"
      ],
      "metadata": {
        "id": "aA-Ilt2cgDUE"
      },
      "execution_count": null,
      "outputs": []
    },
    {
      "cell_type": "code",
      "source": [
        "# A Car IS A Vehicle\n",
        "\n",
        "# TODO: Make a car class that inherits from Vehicle\n",
        "# TODO: add attributes of make and model to the constructor"
      ],
      "metadata": {
        "id": "xQnqPv6xgJyo"
      },
      "execution_count": null,
      "outputs": []
    },
    {
      "cell_type": "code",
      "source": [
        "# TODO: Can you think of something that could inherit from Bicycle?"
      ],
      "metadata": {
        "id": "9tc2Hm0akBs8"
      },
      "execution_count": null,
      "outputs": []
    },
    {
      "cell_type": "markdown",
      "source": [
        "# Make Objects and Use Methods"
      ],
      "metadata": {
        "id": "zycHwmWkibvC"
      }
    },
    {
      "cell_type": "code",
      "source": [
        "vehicle = Vehicle(6,4,\"steam\")\n",
        "vehicle.drive(300)\n",
        "print(vehicle)"
      ],
      "metadata": {
        "colab": {
          "base_uri": "https://localhost:8080/"
        },
        "id": "gN8FuZZPjESF",
        "outputId": "4762b76f-c2b9-440d-af9b-c8465f751ceb"
      },
      "execution_count": null,
      "outputs": [
        {
          "output_type": "stream",
          "name": "stdout",
          "text": [
            "steam vehicle with 6 seats, 4 doors, and 300.0 miles.\n"
          ]
        }
      ]
    },
    {
      "cell_type": "code",
      "source": [
        "# TODO: make a bike\n",
        "# TODO: ride the bike\n",
        "# TODO: get the text representation of the bike\n",
        "\n",
        "# TODO: what happens if you try to drive the bike and print again?"
      ],
      "metadata": {
        "id": "QNQq6s0XkJEo"
      },
      "execution_count": null,
      "outputs": []
    },
    {
      "cell_type": "code",
      "source": [
        "# TODO: make a car\n",
        "# TODO: drive the car\n",
        "# TODO: get the text representation of the car\n",
        "\n",
        "# TODO: what happens if you try to ride the car and print again?"
      ],
      "metadata": {
        "id": "iJV_LhgjkSqK"
      },
      "execution_count": null,
      "outputs": []
    },
    {
      "cell_type": "markdown",
      "source": [
        "# Use getattr"
      ],
      "metadata": {
        "id": "BFJLMG8-pFdK"
      }
    },
    {
      "cell_type": "code",
      "source": [
        "# getattr looks up an attribute by using a string instead of dot notation.\n",
        "# it turns a string into code!!!!!\n",
        "\n",
        "mileage_attribute_handle = getattr(vehicle, \"mileage\")\n",
        "print(\"about to print the mileage attribute handle\")\n",
        "print(\"\\t\", mileage_attribute_handle)\n",
        "print(\"about to call the mileage attribute handle\")\n",
        "result = mileage_attribute_handle()\n",
        "print(\"about to print result\")\n",
        "print(\"\\t\", result)"
      ],
      "metadata": {
        "id": "SSlNU2T7pD2c"
      },
      "execution_count": null,
      "outputs": []
    },
    {
      "cell_type": "markdown",
      "source": [
        "# Implement a bespoke version of getattr"
      ],
      "metadata": {
        "id": "vSyjNvpSr5U6"
      }
    },
    {
      "cell_type": "code",
      "source": [
        "def my_getattr(object: Vehicle, string: str):\n",
        "\tif string == \"mileage\":\n",
        "\t\treturn object.mileage\n",
        "\telse:\n",
        "\t\treturn \"your string is either not an attribute, or the attribute is private!\"\n"
      ],
      "metadata": {
        "id": "10BTv8AFqCPf"
      },
      "execution_count": null,
      "outputs": []
    },
    {
      "cell_type": "code",
      "source": [
        "# call the bespoke version with a valid input\n",
        "\n",
        "bespoke_mileage_attribute_handle = my_getattr(vehicle, \"mileage\")\n",
        "print(\"about to print the bespoke mileage attribute handle\")\n",
        "print(\"\\t\", bespoke_mileage_attribute_handle)\n",
        "print(\"about to call the bespoke mileage attribute handle\")\n",
        "result = bespoke_mileage_attribute_handle()\n",
        "print(\"about to print result\")\n",
        "print(\"\\t\", result)"
      ],
      "metadata": {
        "id": "sxVlgg-bsHsj"
      },
      "execution_count": null,
      "outputs": []
    },
    {
      "cell_type": "code",
      "source": [
        "# TODO: call the bespoke version with an invalid input\n"
      ],
      "metadata": {
        "id": "1GMQ0rEGsZtc"
      },
      "execution_count": null,
      "outputs": []
    }
  ]
}