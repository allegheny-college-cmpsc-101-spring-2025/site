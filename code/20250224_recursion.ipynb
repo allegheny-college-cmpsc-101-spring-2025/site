{
  "cells": [
    {
      "cell_type": "raw",
      "metadata": {},
      "source": [
        "---\n",
        "format: \n",
        "  html:\n",
        "    code-fold: false\n",
        "echo: true\n",
        "output-location: fragment \n",
        "jupyter: python3\n",
        "---"
      ]
    },
    {
      "cell_type": "markdown",
      "metadata": {
        "id": "ufu2dAoqdY2i"
      },
      "source": [
        "[![Open In Colab](https://colab.research.google.com/assets/colab-badge.svg)](https://githubtocolab.com/allegheny-college-cmpsc-101-spring-2025/site/blob/main/code/20250224_recursion.ipynb)"
      ]
    },
    {
      "cell_type": "markdown",
      "metadata": {
        "id": "ZRMWSRWKdVVb"
      },
      "source": [
        "# Guttag Chapter 6"
      ]
    },
    {
      "cell_type": "markdown",
      "metadata": {
        "id": "r94ILrgvw5nM"
      },
      "source": [
        "## Factorial Algorithms"
      ]
    },
    {
      "cell_type": "code",
      "execution_count": 1,
      "metadata": {
        "id": "rG6jcClSxGL4"
      },
      "outputs": [],
      "source": [
        "# TODO: add comments explaining everything below\n",
        "\n",
        "def factorial_iter(n: int) -> int:\n",
        "  result = 1\n",
        "  for i in range(1,n+1,1):\n",
        "    result *= i\n",
        "  return result"
      ]
    },
    {
      "cell_type": "code",
      "execution_count": 5,
      "metadata": {
        "id": "qwE8gsZ1xWRY"
      },
      "outputs": [],
      "source": [
        "# TODO: add comments explaining everything below\n",
        "\n",
        "def factorial(n: int) -> int:\n",
        "  if n == 1:\n",
        "    return 1\n",
        "  return n * factorial(n - 1)\n"
      ]
    },
    {
      "cell_type": "code",
      "execution_count": null,
      "metadata": {
        "id": "_VlOTpWHy1yI"
      },
      "outputs": [],
      "source": [
        "# TODO: call the functions"
      ]
    },
    {
      "cell_type": "markdown",
      "metadata": {
        "id": "mt_4TMVcw2RI"
      },
      "source": [
        "## Palindrome Algorithms"
      ]
    },
    {
      "cell_type": "code",
      "execution_count": null,
      "metadata": {
        "id": "2J4Aa81eyF7P"
      },
      "outputs": [],
      "source": [
        "# TODO: add comments explaining everything below\n",
        "\n",
        "def pal_rev(w: str) -> bool:\n",
        "  w_rev = w[::-1]\n",
        "  if w_rev == w:\n",
        "    return True\n",
        "  return False\n"
      ]
    },
    {
      "cell_type": "code",
      "execution_count": 7,
      "metadata": {
        "id": "KwrYDLaEyNim"
      },
      "outputs": [],
      "source": [
        "# TODO: add comments explaining everything below\n",
        "\n",
        "def pal_rec(w: str) -> bool:\n",
        "  if len(w) <= 1:\n",
        "    return True\n",
        "  elif w[0] == w[-1]:\n",
        "    return pal_rec(w[1:-1])\n",
        "  return False\n"
      ]
    },
    {
      "cell_type": "code",
      "execution_count": null,
      "metadata": {
        "id": "lN0l9aU7ymLe"
      },
      "outputs": [],
      "source": [
        "# TODO: call the function using upper and lower case letters"
      ]
    },
    {
      "cell_type": "markdown",
      "metadata": {
        "id": "SkSubqfQOb1w"
      },
      "source": [
        "## Fibonacci Number Algorithms"
      ]
    },
    {
      "cell_type": "markdown",
      "metadata": {
        "id": "wHPerTVO-kLK"
      },
      "source": [
        "Fibonacci number ${F_n}$ is defined:\n",
        "- ${F_{n}=F_{n-1}+F_{n-2}}$ where\n",
        "- ${F_0 = 0}$ and ${F_1 = 1}$\n",
        "- learn more: https://en.wikipedia.org/wiki/Fibonacci_sequence"
      ]
    },
    {
      "cell_type": "code",
      "execution_count": null,
      "metadata": {
        "id": "wthyMVGFqAnl"
      },
      "outputs": [],
      "source": [
        "# TODO: add comments explaining everything below\n",
        "\n",
        "def fib(nth: int) -> int:\n",
        "  if nth <= 1:\n",
        "    return nth\n",
        "  zeroth = 0\n",
        "  first = 1\n",
        "  for _ in range(2,nth + 1):\n",
        "    next = zeroth + first\n",
        "    zeroth = first\n",
        "    first = next\n",
        "  return next\n",
        "\n",
        "\n",
        "fib(15)"
      ]
    },
    {
      "cell_type": "code",
      "execution_count": null,
      "metadata": {
        "id": "0bVKgKaa15TP"
      },
      "outputs": [],
      "source": [
        "# TODO: add comments explaining everything below\n",
        "\n",
        "def fib_rec(nth: int) -> int:\n",
        "  if nth <= 1:\n",
        "    return nth\n",
        "  else:\n",
        "    return fib_rec(nth-1) + fib_rec(nth-2)\n",
        "\n",
        "fib_rec(15)"
      ]
    },
    {
      "cell_type": "markdown",
      "metadata": {
        "id": "h6y1cUx4Or3a"
      },
      "source": [
        "## Fibonacci Sequence Algorithms"
      ]
    },
    {
      "cell_type": "code",
      "execution_count": null,
      "metadata": {
        "id": "zaq3SOzTQsI4"
      },
      "outputs": [],
      "source": [
        "# TODO: add comments explaining everything below\n",
        "\n",
        "from typing import List\n",
        "\n",
        "def fib(nth: int) -> List[int]:\n",
        "  if nth == 0:\n",
        "    return [0]\n",
        "  if nth == 1:\n",
        "    return [0,1]\n",
        "  seq = [0,1]\n",
        "  for _ in range(2,nth + 1):\n",
        "    next = seq[-1] + seq[-2]\n",
        "    seq.append(next)\n",
        "  return seq\n",
        "\n",
        "fib(15)"
      ]
    },
    {
      "cell_type": "code",
      "execution_count": null,
      "metadata": {
        "id": "H1ZYc7F_RKiX"
      },
      "outputs": [],
      "source": [
        "from typing import Tuple\n",
        "\n",
        "def fib(nth: int) -> Tuple[int]:\n",
        "  if nth == 0:\n",
        "    # TODO: modify previous iterative algorithm to use tuples\n",
        "\n",
        "  if nth == 1:\n",
        "    # TODO: modify previous iterative algorithm to use tuples\n",
        "\n",
        "  # TODO: modify previous iterative algorithm to use tuples\n",
        "\n",
        "  for _ in range(2,nth + 1):\n",
        "\n",
        "    # TODO: modify previous iterative algorithm to use tuples\n",
        "\n",
        "    # TODO: modify previous iterative algorithm to use tuples\n",
        "\n",
        "  return seq\n",
        "\n",
        "fib(15)"
      ]
    },
    {
      "cell_type": "code",
      "execution_count": null,
      "metadata": {
        "id": "894Jibzj8-LU"
      },
      "outputs": [],
      "source": [
        "# TODO: add comments explaining everything below\n",
        "\n",
        "from typing import List\n",
        "\n",
        "def fib_rec(nth: int) -> List[int]:\n",
        "  if nth == 0:\n",
        "    return [0]\n",
        "  if nth == 1:\n",
        "    return [0,1]\n",
        "  seq = fib_rec(nth - 1)\n",
        "  seq.append(seq[-1] + seq[-2])\n",
        "  return seq\n",
        "\n",
        "fib_rec(15)"
      ]
    },
    {
      "cell_type": "code",
      "execution_count": null,
      "metadata": {
        "id": "X1Owjah19Fiz"
      },
      "outputs": [],
      "source": [
        "from typing import Tuple\n",
        "\n",
        "def fib_rec(nth: int) -> Tuple[int]:\n",
        "  if nth == 0:\n",
        "    # TODO: modify previous recursive algorithm to use tuples\n",
        "\n",
        "  if nth == 1:\n",
        "    # TODO: modify previous recursive algorithm to use tuples\n",
        "\n",
        "  seq = fib_rec(nth - 1)\n",
        "\n",
        "  # TODO: modify previous recursive algorithm to use tuples\n",
        "\n",
        "\n",
        "  return seq\n",
        "\n",
        "fib_rec(15)"
      ]
    },
    {
      "cell_type": "markdown",
      "metadata": {
        "id": "_H-8fiSZP6Xt"
      },
      "source": [
        "## Questions"
      ]
    },
    {
      "cell_type": "markdown",
      "metadata": {
        "id": "FrQi4Sqs7EVf"
      },
      "source": [
        "- How can you tell if an algorithm is iterative?\n",
        "- How can you tell if an algorithm is recursive?\n",
        "- What valid inputs cause problems with some algorithms shown above and why?"
      ]
    }
  ],
  "metadata": {
    "colab": {
      "provenance": []
    },
    "kernelspec": {
      "display_name": "Python 3",
      "name": "python3"
    },
    "language_info": {
      "name": "python"
    }
  },
  "nbformat": 4,
  "nbformat_minor": 0
}
