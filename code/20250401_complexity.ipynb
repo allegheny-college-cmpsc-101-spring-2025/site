{
  "cells": [
    {
      "cell_type": "markdown",
      "metadata": {
        "id": "kSKX_3miGeOq"
      },
      "source": [
        "[![Open In Colab](https://colab.research.google.com/assets/colab-badge.svg)](https://githubtocolab.com/allegheny-college-cmpsc-101-spring-2025/site/blob/main/code/20250401_complexity.ipynb)"
      ]
    },
    {
      "cell_type": "markdown",
      "metadata": {
        "id": "HgSvAL1hk5V0"
      },
      "source": [
        "## Worst Case Complexity"
      ]
    },
    {
      "cell_type": "code",
      "execution_count": 1,
      "metadata": {
        "id": "P3isGkSLmNnt"
      },
      "outputs": [],
      "source": [
        "import random"
      ]
    },
    {
      "cell_type": "code",
      "execution_count": null,
      "metadata": {
        "id": "2-bhEQkNlEuo"
      },
      "outputs": [],
      "source": [
        "array = [random.randint(0,100) for _ in range(1000)]\n",
        "n = len(array)\n",
        "\n",
        "counter = 0\n",
        "for i in range(n):\n",
        "\t# do a constant number of things for each element\n",
        "  counter += 1\n",
        "\n",
        "print(counter)\n"
      ]
    },
    {
      "cell_type": "code",
      "execution_count": null,
      "metadata": {
        "id": "rJang0Ybljpc"
      },
      "outputs": [],
      "source": [
        "array = [random.randint(0,100) for _ in range(1000)]\n",
        "n = len(array)\n",
        "\n",
        "counter = 0\n",
        "for i in range(n):\n",
        "\t# do a constant number of things for each element\n",
        "  counter += 1\n",
        "  if array[i] > 50:\n",
        "    break\n",
        "\n",
        "print(counter)\n",
        "print(array[:20])"
      ]
    },
    {
      "cell_type": "code",
      "execution_count": null,
      "metadata": {
        "id": "2utlc9CXmJgr"
      },
      "outputs": [],
      "source": [
        "array = [random.randint(0,100) for _ in range(1000)]\n",
        "n = len(array)\n",
        "\n",
        "counter = 0\n",
        "for i in range(n):\n",
        "\t# do a constant number of things for each element\n",
        "  counter += 1\n",
        "  if array[i] > 100:\n",
        "    break\n",
        "\n",
        "print(counter)\n",
        "print(array[:20])"
      ]
    },
    {
      "cell_type": "markdown",
      "metadata": {
        "id": "HSMu9S5jecAV"
      },
      "source": [
        "## Empirical Analysis"
      ]
    },
    {
      "cell_type": "code",
      "execution_count": null,
      "metadata": {
        "id": "48jqS5T4hzP7"
      },
      "outputs": [],
      "source": [
        "### Containment Lab\n",
        "\n",
        "# Perform timing experiments using the timeit package\n",
        "\n",
        "# NOTE: these experiments are not rigorous doubling\n",
        "# experiments but rather small-scale experiments that\n",
        "# illustrate how the timing package works in Python\n",
        "\n",
        "# Refer to the documentation of timeit for more details:\n",
        "# https://docs.python.org/3/library/timeit.html\n",
        "\n",
        "# import the timeit package used to collect\n",
        "# performance data about the function's execution\n",
        "import timeit\n",
        "\n",
        "# define the function to analyze in a string\n",
        "# so that it can be passed to the timeit function\n",
        "code_to_time = \"\"\"def factorial(n: int) -> int:\n",
        "    answer = 1\n",
        "    while n > 1:\n",
        "        answer *= n\n",
        "        n -= 1\n",
        "    return answer\n",
        "\n",
        "factorial(100)\"\"\"\n",
        "\n",
        "# repeatedly run the code_to_time and\n",
        "# report the performance results; this\n",
        "# runs a total of three benchmarking campaigns\n",
        "# that will individually run the code a\n",
        "# total of 10000 times. It then reports\n",
        "# the total execution time for each campaign\n",
        "print (timeit.repeat(stmt = code_to_time,\n",
        "                     repeat = 3,\n",
        "                     number = 10000))\n"
      ]
    },
    {
      "cell_type": "code",
      "execution_count": null,
      "metadata": {
        "id": "aGvmYv6FeE3d"
      },
      "outputs": [],
      "source": [
        "### alternate method\n",
        "\n",
        "def factorial(n) -> int:\n",
        "  answer = 1\n",
        "  while n >= 1:\n",
        "    answer *= n\n",
        "    n -= 1\n",
        "  return answer\n",
        "\n",
        "%timeit -n 10000 -r 3 factorial(100)"
      ]
    },
    {
      "cell_type": "code",
      "execution_count": null,
      "metadata": {
        "id": "OQnJaoP0nD55"
      },
      "outputs": [],
      "source": [
        "# Questions and TODOs\n",
        "\n",
        "# If the total time is reported for each run, how can the average time be found?\n",
        "# TODO: write an algorithm to compute the average time it took for each repetion within a run\n",
        "# TODO: write an algorithm to compute the average time it took for a single repeition"
      ]
    },
    {
      "cell_type": "markdown",
      "metadata": {
        "id": "VHqJUNxOmqz6"
      },
      "source": [
        "## Doubling Experiment"
      ]
    },
    {
      "cell_type": "code",
      "execution_count": null,
      "metadata": {
        "id": "qFQhHCD3nPcw"
      },
      "outputs": [],
      "source": [
        "# TODO: Using one of the methods shown above, run a doubling experiment on this code\n",
        "# Start by making a random list of length input_size, then pass actual parameters to the function\n",
        "# Record relevant results into the Markdown table\n",
        "# Repeat above with doubled input serval times"
      ]
    },
    {
      "cell_type": "code",
      "execution_count": null,
      "metadata": {
        "id": "mksx_d7inVJ-"
      },
      "outputs": [],
      "source": [
        "from typing import List\n",
        "\n",
        "def function(array: List[int], n: int) -> int:\n",
        "  counter = 0\n",
        "  for i in range(n):\n",
        "    array[i] += 1\n",
        "    for j in range(n):\n",
        "      array[j] += 1\n",
        "      for k in range(n):\n",
        "        array[k] += 1\n",
        "        counter += 1\n",
        "  return counter"
      ]
    },
    {
      "cell_type": "code",
      "execution_count": null,
      "metadata": {
        "id": "wDez16rPrKA8"
      },
      "outputs": [],
      "source": [
        "input_size = 50"
      ]
    },
    {
      "cell_type": "code",
      "execution_count": null,
      "metadata": {
        "id": "b1BugKevogGo"
      },
      "outputs": [],
      "source": [
        "input_size = 100"
      ]
    },
    {
      "cell_type": "code",
      "execution_count": null,
      "metadata": {
        "id": "BgHWb-1RpjQc"
      },
      "outputs": [],
      "source": [
        "input_size = 200"
      ]
    },
    {
      "cell_type": "code",
      "execution_count": null,
      "metadata": {
        "id": "7AFUexRGplrR"
      },
      "outputs": [],
      "source": [
        "input_size = 400"
      ]
    },
    {
      "cell_type": "markdown",
      "metadata": {
        "id": "yxNQoxdyp8nA"
      },
      "source": [
        "| input size | duration |\n",
        "|------------|----------|\n",
        "| TODO       | TODO     |\n",
        "| TODO       | TODO     |\n",
        "| TODO       | TODO     |\n",
        "| TODO       | TODO     |\n",
        "\n",
        "\n",
        "Doubling ratios\n",
        "- row2:row1 =>\n",
        "- row3:row2 =>\n",
        "- row4:row3 =>\n"
      ]
    }
  ],
  "metadata": {
    "colab": {
      "collapsed_sections": [
        "HgSvAL1hk5V0",
        "HSMu9S5jecAV"
      ],
      "provenance": []
    },
    "kernelspec": {
      "display_name": "Python 3",
      "name": "python3"
    },
    "language_info": {
      "name": "python"
    }
  },
  "nbformat": 4,
  "nbformat_minor": 0
}
