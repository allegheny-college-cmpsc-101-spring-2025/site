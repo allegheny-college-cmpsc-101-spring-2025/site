{
  "cells": [
    {
      "cell_type": "raw",
      "metadata": {},
      "source": [
        "---\n",
        "format: \n",
        "  html:\n",
        "    code-fold: false\n",
        "echo: true\n",
        "output-location: fragment \n",
        "jupyter: python3\n",
        "---"
      ]
    },
    {
      "cell_type": "markdown",
      "metadata": {
        "id": "iDcDHNVSzM8W"
      },
      "source": [
        "[![Open In Colab](https://colab.research.google.com/assets/colab-badge.svg)](https://githubtocolab.com/allegheny-college-cmpsc-101-spring-2025/site/blob/main/code/20250217_cloning_aliasing_listcomp.ipynb)"
      ]
    },
    {
      "cell_type": "markdown",
      "metadata": {
        "id": "ucxmXkbgRywl"
      },
      "source": [
        "# Cloning and Aliasing"
      ]
    },
    {
      "cell_type": "code",
      "execution_count": null,
      "metadata": {
        "id": "pgE_tuOeo74n"
      },
      "outputs": [],
      "source": [
        "elem1 = 'apple' # a is a string object \"apple\"\n",
        "elem2 = 'bear' # b is string object \"bear\"\n",
        "\n",
        "a = [elem1,elem2] # a is name of the list that points to the objects that are already in memory\n",
        "b = a # b points to the SAME list in memory!\n",
        "\n",
        "print(a)\n",
        "print(b)\n",
        "\n",
        "print(\"id(a)\", id(a))\n",
        "print(\"id(b)\", id(b))\n",
        "\n",
        "print(\"id(a[0])\", id(a[0]))\n",
        "print(\"id(b[0])\", id(b[0]))\n",
        "print(\"id(elem1)\", id(elem1))\n"
      ]
    },
    {
      "cell_type": "code",
      "execution_count": null,
      "metadata": {
        "id": "oZl77QatpQPG"
      },
      "outputs": [],
      "source": [
        "elem1 = 'apple' # a is a string object \"apple\"\n",
        "elem2 = 'bear' # b is a string object \"bear\"\n",
        "\n",
        "a = [elem1,elem2] # a is name of the list that points to the objects that are already in memory\n",
        "b = a # b points to the SAME list in memory!\n",
        "a.append('cat')\n",
        "\n",
        "print(a)\n",
        "print(b)\n",
        "\n",
        "print(\"id(a)\", id(a))\n",
        "print(\"id(b)\", id(b))\n",
        "\n",
        "print(\"id(a[0])\", id(a[0]))\n",
        "print(\"id(b[0])\", id(b[0]))\n",
        "print(\"id(elem1)\", id(elem1))"
      ]
    },
    {
      "cell_type": "code",
      "execution_count": null,
      "metadata": {
        "id": "rEGVzsDfq_-j"
      },
      "outputs": [],
      "source": [
        "elem1 = 'apple' # a is a string object \"apple\"\n",
        "elem2 = 'bear' # b is a string object \"bear\"\n",
        "\n",
        "a = [elem1,elem2] # a is name of the list that points to the objects that are already in memory\n",
        "b = a[:] # b is a shallow copy\n",
        "a.append('cat')\n",
        "\n",
        "print(a)\n",
        "print(b)\n",
        "\n",
        "print(\"id(a)\", id(a))\n",
        "print(\"id(b)\", id(b))\n",
        "\n",
        "print(\"id(a[0])\", id(a[0]))\n",
        "print(\"id(b[0])\", id(b[0]))\n",
        "print(\"id(elem1)\", id(elem1))\n"
      ]
    },
    {
      "cell_type": "code",
      "execution_count": null,
      "metadata": {
        "id": "XI_LsiybPcJW"
      },
      "outputs": [],
      "source": [
        "elem1 = 'apple' # a is a string object \"apple\"\n",
        "elem2 = 'bear' # b is a string object \"bear\"\n",
        "\n",
        "a = [elem1,elem2] # a is name of the list that points to the objects that are already in memory\n",
        "b = a.copy() # b is a shallow copy\n",
        "a.append('cat')\n",
        "\n",
        "print(a)\n",
        "print(b)\n",
        "\n",
        "print(\"id(a)\", id(a))\n",
        "print(\"id(b)\", id(b))\n",
        "\n",
        "print(\"id(a[0])\", id(a[0]))\n",
        "print(\"id(b[0])\", id(b[0]))\n",
        "print(\"id(elem1)\", id(elem1))"
      ]
    },
    {
      "cell_type": "code",
      "execution_count": null,
      "metadata": {
        "id": "1ANK6BYdPf6Y"
      },
      "outputs": [],
      "source": [
        "elem1 = ['apple'] # a is a list object with a string inside [\"apple\"]\n",
        "elem2 = ['bear'] # b is a list object with a string inside [\"bear\"]\n",
        "\n",
        "a = [elem1,elem2] # a is name of the list that points to the objects that are already in memory\n",
        "b = a[:] # b is a shallow copy\n",
        "a.append(['cat'])\n",
        "\n",
        "print(a)\n",
        "print(b)\n",
        "\n",
        "print(\"id(a)\", id(a))\n",
        "print(\"id(b)\", id(b))\n",
        "\n",
        "print(\"id(a[0])\", id(a[0]))\n",
        "print(\"id(b[0])\", id(b[0]))\n",
        "print(\"id(elem1)\", id(elem1))"
      ]
    },
    {
      "cell_type": "code",
      "execution_count": null,
      "metadata": {
        "id": "xmC3aLRbP8Cn"
      },
      "outputs": [],
      "source": [
        "elem1 = ['apple'] # a is a list object with a string inside [\"apple\"]\n",
        "elem2 = ['bear'] # b is a list object with a string inside [\"bear\"]\n",
        "\n",
        "a = [elem1,elem2] # a is name of the list that points to the objects that are already in memory\n",
        "b = a[:] # b is a shallow copy\n",
        "a[0].append(['cat'])\n",
        "\n",
        "print(a)\n",
        "print(b)\n",
        "\n",
        "print(\"id(a)\", id(a))\n",
        "print(\"id(b)\", id(b))\n",
        "\n",
        "print(\"id(a[0])\", id(a[0]))\n",
        "print(\"id(b[0])\", id(b[0]))\n",
        "print(\"id(elem1)\", id(elem1))"
      ]
    },
    {
      "cell_type": "code",
      "execution_count": null,
      "metadata": {
        "id": "z3QM02G_QESh"
      },
      "outputs": [],
      "source": [
        "import copy\n",
        "\n",
        "elem1 = ['apple'] # a is a list object with a string inside [\"apple\"]\n",
        "elem2 = ['bear'] # b is a list object with a string inside [\"bear\"]\n",
        "\n",
        "a = [elem1,elem2] # a is name of the list that points to the objects that are already in memory\n",
        "b = copy.deepcopy(a) # b is a deep copy\n",
        "a.append(['cat'])\n",
        "\n",
        "print(a)\n",
        "print(b)\n",
        "\n",
        "print(\"id(a)\", id(a))\n",
        "print(\"id(b)\", id(b))\n",
        "\n",
        "print(\"id(a[0])\", id(a[0]))\n",
        "print(\"id(b[0])\", id(b[0]))\n",
        "print(\"id(elem1)\", id(elem1))"
      ]
    },
    {
      "cell_type": "code",
      "execution_count": null,
      "metadata": {
        "id": "2TBFpLd2QQE4"
      },
      "outputs": [],
      "source": [
        "import copy\n",
        "\n",
        "elem1 = ['apple'] # a is a list object with a string inside [\"apple\"]\n",
        "elem2 = ['bear'] # b is a list object with a string inside [\"bear\"]\n",
        "\n",
        "a = [elem1,elem2] # a is name of the list that points to the objects that are already in memory\n",
        "b = copy.deepcopy(a) # b is a deep copy\n",
        "a[0].append(['cat'])\n",
        "\n",
        "print(a)\n",
        "print(b)\n",
        "\n",
        "print(\"id(a)\", id(a))\n",
        "print(\"id(b)\", id(b))\n",
        "\n",
        "print(\"id(a[0])\", id(a[0]))\n",
        "print(\"id(b[0])\", id(b[0]))\n",
        "print(\"id(elem1)\", id(elem1))"
      ]
    },
    {
      "cell_type": "code",
      "execution_count": null,
      "metadata": {
        "id": "JoA0xMEVxJ85"
      },
      "outputs": [],
      "source": [
        "# What is the difference between and shallow and deep copy?"
      ]
    },
    {
      "cell_type": "markdown",
      "metadata": {
        "id": "X6LYNofyR2hT"
      },
      "source": [
        "# List Comprehensions"
      ]
    },
    {
      "cell_type": "code",
      "execution_count": null,
      "metadata": {
        "id": "YyXnylDnR4I3"
      },
      "outputs": [],
      "source": [
        "[e**2 for e in range(6)]"
      ]
    },
    {
      "cell_type": "code",
      "execution_count": null,
      "metadata": {
        "id": "5yZAc9odR7t0"
      },
      "outputs": [],
      "source": [
        "[e**2 for e in range(8) if e%2 == 0]"
      ]
    },
    {
      "cell_type": "code",
      "execution_count": null,
      "metadata": {
        "id": "T7YUPYpOR-5e"
      },
      "outputs": [],
      "source": [
        "# write a list comprehension that contains the elements 3 through 18 including 18"
      ]
    },
    {
      "cell_type": "code",
      "execution_count": null,
      "metadata": {
        "id": "2aRFpvuPSIB0"
      },
      "outputs": [],
      "source": [
        "# write a list comprehension that contains the only odd number 3 through 18"
      ]
    },
    {
      "cell_type": "code",
      "execution_count": null,
      "metadata": {
        "id": "rESqIT0kSOFm"
      },
      "outputs": [],
      "source": [
        "# write a list comprehension that contains 12 random numbers, where the random numbers are between 4 and 40\n",
        "\n",
        "from random import randint\n"
      ]
    },
    {
      "cell_type": "code",
      "execution_count": null,
      "metadata": {
        "id": "8gLIAF9TSf2G"
      },
      "outputs": [],
      "source": [
        "# write a list comprehension that contains 12 random numbers, where the random numbers are between 4 and 40\n",
        "# then convert the result to a tuple\n",
        "\n",
        "from random import randint"
      ]
    }
  ],
  "metadata": {
    "colab": {
      "provenance": []
    },
    "kernelspec": {
      "display_name": "Python 3",
      "name": "python3"
    },
    "language_info": {
      "name": "python"
    }
  },
  "nbformat": 4,
  "nbformat_minor": 0
}
