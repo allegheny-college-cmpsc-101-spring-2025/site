{
  "nbformat": 4,
  "nbformat_minor": 0,
  "metadata": {
    "colab": {
      "provenance": []
    },
    "kernelspec": {
      "name": "python3",
      "display_name": "Python 3"
    },
    "language_info": {
      "name": "python"
    }
  },
  "cells": [
    {
      "cell_type": "markdown",
      "source": [
        "[![Open In Colab](https://colab.research.google.com/assets/colab-badge.svg)](https://githubtocolab.com/allegheny-college-cmpsc-101-fall-2024/course-materials/blob/main/code/20241125_optimization.ipynb)"
      ],
      "metadata": {
        "id": "jCDttW9ZgjPx"
      }
    },
    {
      "cell_type": "code",
      "source": [
        "# TODO fill in eight food names, values, and calories as the initial data for this problem\n",
        "\n",
        "food_names = ['', '', '', '', '', '', '', '', '']\n",
        "values = [,,,,,,,,]\n",
        "calories = [,,,,,,,,]\n",
        "\n",
        "calorie_cap = # TODO"
      ],
      "metadata": {
        "id": "_NnfWHO53lJO"
      },
      "execution_count": null,
      "outputs": []
    },
    {
      "cell_type": "markdown",
      "source": [
        "## Greedy code"
      ],
      "metadata": {
        "id": "XNcx2AjMHrI7"
      }
    },
    {
      "cell_type": "code",
      "source": [
        "# Define the class that will represent the data values\n",
        "\n",
        "from typing import List\n",
        "from typing import Tuple\n",
        "\n",
        "\n",
        "class Food(object):\n",
        "\n",
        "    def __init__(self, name_of_food: str, value_deliciousness: int, cost_in_calories: int):\n",
        "        \"\"\"Construct an instance of the Food class.\"\"\"\n",
        "        self._name = name_of_food\n",
        "        self._value = value_deliciousness\n",
        "        self._calories = cost_in_calories\n",
        "\n",
        "    def get_name(self) -> str:\n",
        "        \"\"\"Access the name of the Food object.\"\"\"\n",
        "        return self._name\n",
        "\n",
        "    def get_value(self) -> int:\n",
        "        \"\"\"Access how deliciously valuable the Food object is.\"\"\"\n",
        "        return self._value\n",
        "\n",
        "    def get_cals(self) -> int:\n",
        "        \"\"\"Access the caloric cost of the Food object.\"\"\"\n",
        "        return self._calories\n",
        "\n",
        "    def density(self) -> float:\n",
        "        \"\"\"Access the value to calorie ratio.\"\"\"\n",
        "        return self.get_value()/self.get_cals()\n",
        "\n",
        "    def __repr__(self) -> str:\n",
        "        \"\"\"Produce a textual representation of the Food.\"\"\"\n",
        "        return f\"(One {self._name} with {self._calories} calories is valued at {self._value} units )\""
      ],
      "metadata": {
        "trusted": true,
        "id": "poT3MVinsLm5"
      },
      "execution_count": null,
      "outputs": []
    },
    {
      "cell_type": "code",
      "source": [
        "# define a function that can creates food instances for the 0/1 Knapsack problem\n",
        "\n",
        "def build_menu(food_names: List[str], values: List[int], calories: List[int]) -> List[Food]:\n",
        "    \"\"\"Create an instance of a 0/1 knapsack using instances of the Item class.\"\"\"\n",
        "    menu: List[Food] = []\n",
        "    for f in range(len(food_names)):\n",
        "        menu.append(Food(food_names[f], values[f], calories[f]))\n",
        "    return menu"
      ],
      "metadata": {
        "trusted": true,
        "id": "JTGkYTAksLm7"
      },
      "execution_count": null,
      "outputs": []
    },
    {
      "cell_type": "code",
      "source": [
        "# define the helper functions that work with an instance of the class to get useful numbers\n",
        "\n",
        "def order_by_value(food: Food) -> int:\n",
        "    \"\"\"Return the value for a specific item.\"\"\"\n",
        "    return food.get_value()\n",
        "\n",
        "\n",
        "def order_by_calories(food: Food) -> float:\n",
        "    \"\"\"Return the inverse of the weight for a specific item.\"\"\"\n",
        "    return 1.0 / food.get_cals()\n",
        "\n",
        "\n",
        "def order_by_density(food: Food) -> float:\n",
        "    \"\"\"Return the density of the item.\"\"\"\n",
        "    return food.get_value() / food.get_cals()"
      ],
      "metadata": {
        "trusted": true,
        "id": "F3j58kmGsLm6"
      },
      "execution_count": null,
      "outputs": []
    },
    {
      "cell_type": "code",
      "source": [
        "# create a greedy solver\n",
        "\n",
        "def greedy(menu: List[Food], calorie_cap: int, order_function) -> Tuple[List[Food], float, float]:\n",
        "    \"\"\"Perform the greedy algorithm for items, a maximum weight of a knapsack, and an objective function.\"\"\"\n",
        "    menu_sorted = sorted(menu, key=order_function, reverse=True) # descending order\n",
        "    selected_foods: List[Food] = []\n",
        "    value_so_far = 0.0\n",
        "    calories_so_far = 0.0\n",
        "    for i in range(len(menu_sorted)):\n",
        "        if (calories_so_far + menu_sorted[i].get_cals()) <= calorie_cap:\n",
        "            selected_foods.append(menu_sorted[i])\n",
        "            calories_so_far += menu_sorted[i].get_cals()\n",
        "            value_so_far += menu_sorted[i].get_value()\n",
        "    return (selected_foods, value_so_far, calories_so_far)"
      ],
      "metadata": {
        "trusted": true,
        "id": "5sASXMmAsLm7"
      },
      "execution_count": null,
      "outputs": []
    },
    {
      "cell_type": "code",
      "source": [
        "# define the functions for running the greedy algorithm\n",
        "\n",
        "def run_and_display_one_greedy(menu: List[Food], calorie_cap: int, order_function) -> None:\n",
        "    \"\"\"Run the greedy algorithm and display the result.\"\"\"\n",
        "    selected_foods, value, cals = greedy(menu, calorie_cap, order_function)\n",
        "    print(\"Total value of selected foods is\", value)\n",
        "    print(\"Total calories in selected foods is\", cals)\n",
        "    for food in selected_foods:\n",
        "        print(\"  \", food)\n",
        "\n",
        "def run_all_greedy(menu: List[Food], calorie_cap=1000) -> None:\n",
        "    \"\"\"Run all greedy algorithm with all possible objective functions.\"\"\"\n",
        "    print(\"Running all of the knapsack solvers!\")\n",
        "    print()\n",
        "    print(f\"Using greedy-by-value to select foods up to {calorie_cap} calories\")\n",
        "    run_and_display_one_greedy(menu, calorie_cap, order_by_value)\n",
        "    print()\n",
        "    print(f\"Using greedy-by-calories to select foods up to {calorie_cap} calories\")\n",
        "    run_and_display_one_greedy(menu, calorie_cap, order_by_calories)\n",
        "    print()\n",
        "    print(f\"Using greedy-by-density to select foods up to {calorie_cap} calories\")\n",
        "    run_and_display_one_greedy(menu, calorie_cap, order_by_density)\n",
        "    print()"
      ],
      "metadata": {
        "trusted": true,
        "id": "oO9Ir5cvsLm8"
      },
      "execution_count": null,
      "outputs": []
    },
    {
      "cell_type": "code",
      "source": [
        "menu = build_menu(food_names, values, calories)\n",
        "run_all_greedy(menu, calorie_cap)"
      ],
      "metadata": {
        "id": "QlG6NqfNd0OF"
      },
      "execution_count": null,
      "outputs": []
    },
    {
      "cell_type": "markdown",
      "source": [
        "## Powerset code"
      ],
      "metadata": {
        "id": "Vt2DNOp4I-0_"
      }
    },
    {
      "cell_type": "code",
      "source": [
        "def powerset(s: List[int]):\n",
        "    \"\"\"Generate the powerset of a list of items.\"\"\"\n",
        "    # Reference:\n",
        "    # https://stackoverflow.com/questions/1482308/how-to-get-all-subsets-of-a-set-powerset\n",
        "    # https://realpython.com/python-bitwise-operators/\n",
        "    # https://docs.python.org/3.11/library/functions.html#zip\n",
        "    x = len(s)\n",
        "    masks = [1 << i for i in range(x)] # list of shifted ones\n",
        "    for i in range(1 << x):\n",
        "        yield [ss for mask, ss in zip(masks, s) if i & mask]\n",
        "\n",
        "\n",
        "\n",
        "def exhaustive_enumeration(pset, max_weight, get_value, get_weight):\n",
        "    \"\"\"Run an exhaustive enumeration algorithm to find best combination.\"\"\"\n",
        "    best_value = 0.0\n",
        "    best_set = []\n",
        "    best_cals = 0.0\n",
        "    for foods in pset:\n",
        "        foods_value = 0.0\n",
        "        total_cals = 0.0\n",
        "        for f in foods:\n",
        "            foods_value += get_value(f)\n",
        "            total_cals += get_weight(f)\n",
        "        if total_cals <= max_weight and foods_value > best_value:\n",
        "            best_value = foods_value\n",
        "            best_set = foods\n",
        "            best_cals = total_cals\n",
        "    return (best_set, best_value, best_cals)\n"
      ],
      "metadata": {
        "trusted": true,
        "id": "Gt6tthTVsLm7"
      },
      "execution_count": null,
      "outputs": []
    },
    {
      "cell_type": "code",
      "source": [
        "# define the function for running the exhaustive algorithm\n",
        "\n",
        "def run_exhaustive_enumeration(menu, calorie_cap=1000):\n",
        "    \"\"\"Use the exhaustive enumeration algorithm for a problem instance.\"\"\"\n",
        "    print(\"Generating the powerset of all items!\")\n",
        "    pset = powerset(menu)\n",
        "    print()\n",
        "    print(\"Using exhaustive enumeration to fill a knapsack of size\", calorie_cap)\n",
        "    taken, value, cals = exhaustive_enumeration(pset, calorie_cap, Food.get_value, Food.get_cals)\n",
        "    print(\"Total value of selected foods is\", value)\n",
        "    print(\"Total calories in selected foods are\", cals)\n",
        "    for item in taken:\n",
        "        print(\"  \", item)"
      ],
      "metadata": {
        "trusted": true,
        "id": "V-d_qV3SsLm8"
      },
      "execution_count": null,
      "outputs": []
    },
    {
      "cell_type": "code",
      "source": [
        "# run the exhaustive algorithm for the specific instance and display the solution\n",
        "\n",
        "menu = build_menu(food_names, values, calories)\n",
        "run_exhaustive_enumeration(menu, calorie_cap)"
      ],
      "metadata": {
        "trusted": true,
        "id": "CLE1kYYBsLm9"
      },
      "execution_count": null,
      "outputs": []
    },
    {
      "cell_type": "code",
      "source": [
        "# Questions:\n",
        "# 1) What are the similarities and differences between the greedy and exhaustive algorithms?\n",
        "# 2) Which algorithm is likely to be faster, the greedy or the exhaustive one?\n",
        "# 3) Which algorithm is likely to produce a better answer, the greedy or the exhaustive one?\n"
      ],
      "metadata": {
        "id": "rnUnAuulsLm9"
      },
      "execution_count": null,
      "outputs": []
    },
    {
      "cell_type": "code",
      "source": [
        "# define your own instance of the 0/1 knapsack and solve it with a greedy algorithm"
      ],
      "metadata": {
        "id": "MrWp-ea1HHFC"
      },
      "execution_count": null,
      "outputs": []
    },
    {
      "cell_type": "code",
      "source": [
        "# define your own instance of the 0/1 knapsack and solve it with the exhaustive algorithm"
      ],
      "metadata": {
        "id": "7IFaamiHHKAF"
      },
      "execution_count": null,
      "outputs": []
    }
  ]
}