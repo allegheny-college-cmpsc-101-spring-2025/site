{
  "cells": [
    {
      "cell_type": "markdown",
      "metadata": {
        "id": "s2wg-X1YrAH1"
      },
      "source": [
        "[![Open In Colab](https://colab.research.google.com/assets/colab-badge.svg)](https://githubtocolab.com/allegheny-college-cmpsc-101-spring-2025/site/blob/main/code/20250409_sorting.ipynb)"
      ]
    },
    {
      "cell_type": "markdown",
      "metadata": {
        "id": "nal8UoDDIEzf"
      },
      "source": [
        "## Built-in sorting functions"
      ]
    },
    {
      "cell_type": "code",
      "execution_count": null,
      "metadata": {
        "id": "ax1JU56qGJTX"
      },
      "outputs": [],
      "source": [
        "import random\n",
        "\n",
        "# make a list filled with random ints, hopfully not in order :)\n",
        "li = [random.randint(0,10) for _ in range(10)]\n",
        "\n",
        "# make a copy (shallow and deep both work because this is a list of ints)\n",
        "li_copy = li.copy()\n",
        "\n",
        "# print everything before sorting\n",
        "print(\"BEFORE SORTING\")\n",
        "print(li, \"<--li\", )\n",
        "print(li_copy, \"<--li_copy\")\n",
        "\n",
        "# sort in two ways\n",
        "li_sorted = li.sort()\n",
        "li_copy_sorted = sorted(li_copy)\n",
        "\n",
        "# print everything after sorting\n",
        "print(\"AFTER SORTING\")\n",
        "print(li, \"<--li\", )\n",
        "print(li_sorted, \"<--li\", )\n",
        "print(li_copy, \"<--li_copy\")\n",
        "print(li_copy_sorted, \"<--li_copy_sorted\")\n",
        "\n",
        "# Questions\n",
        "# What happens to li and why?\n",
        "# What happens to li_copy and why?\n",
        "# What is the difference between list.sort() and sorted()?"
      ]
    },
    {
      "cell_type": "markdown",
      "metadata": {
        "id": "W7ywO02mdiG8"
      },
      "source": [
        "## Selection Sort"
      ]
    },
    {
      "cell_type": "code",
      "execution_count": null,
      "metadata": {
        "id": "Blg-rmpznHrp"
      },
      "outputs": [],
      "source": [
        "# TODO: try it yourself, then look below to check your answer\n",
        "\n",
        "from typing import List\n",
        "\n",
        "def select_sort(array: List[int]) -> None:\n",
        "  \"\"\"Find smallest elem and build up sorted prefix, operating directly on the array.\"\"\""
      ]
    },
    {
      "cell_type": "code",
      "execution_count": null,
      "metadata": {
        "id": "pAK7VCnfdkA0"
      },
      "outputs": [],
      "source": [
        "from typing import List\n",
        "\n",
        "def select_sort(array: List[int]) -> None:\n",
        "  \"\"\"Find smallest elem and build up sorted prefix.\"\"\"\n",
        "\n",
        "  # create a variable that stores the length of the prefix\n",
        "  len_prefix = 0\n",
        "  # do sorting while the len_prefix is not the entire array length\n",
        "  while len_prefix != len(array):\n",
        "    for i in range(len_prefix, len(array)):\n",
        "      smallest = array[len_prefix]\n",
        "      if array[i] < smallest:\n",
        "        smallest = array[i]\n",
        "        # preemptively move the smallest elem so far into position\n",
        "        temp = smallest\n",
        "        smallest = array[i]\n",
        "        array[i] = temp\n",
        "    len_prefix += 1\n",
        "\n",
        "array = [10, 101, 100, 1, 5, 3, 8, 2, 0]\n",
        "select_sort(array)\n",
        "print(array)\n",
        "\n",
        "# Questions\n",
        "# Why is a range used from len_prefix to len(array)?\n",
        "# If the preemptive move did not occur, what would have to happen instead?\n",
        "# Fill in comments for the code"
      ]
    },
    {
      "cell_type": "markdown",
      "metadata": {
        "id": "WyM9t6ahfdqj"
      },
      "source": [
        "## Bubble Sort"
      ]
    },
    {
      "cell_type": "code",
      "execution_count": null,
      "metadata": {
        "id": "0w9GB43SndyU"
      },
      "outputs": [],
      "source": [
        "# TODO: try it yourself, then look below to check your answer\n",
        "\n",
        "from typing import List\n",
        "\n",
        "def bubble_sort(array: List[int]) -> None:\n",
        "  \"\"\"Bubble up the largest elem to the suffix, operating directly on the array.\"\"\""
      ]
    },
    {
      "cell_type": "code",
      "execution_count": null,
      "metadata": {
        "id": "ZOdFTddhffGP"
      },
      "outputs": [],
      "source": [
        "from typing import List\n",
        "\n",
        "def bubble_sort(array: List[int]) -> None:\n",
        "  \"\"\"Bubble up the largest elem to the suffix.\"\"\"\n",
        "\n",
        "  bubbling_needed = True\n",
        "  while bubbling_needed:\n",
        "    bubbling_needed = False\n",
        "    for i in range(len(array) - 1):\n",
        "      if array[i+1] < array[i]:\n",
        "        bubbling_needed = True\n",
        "        temp = array[i]\n",
        "        array[i] = array[i+1]\n",
        "        array[i+1] = temp\n",
        "\n",
        "array = [10, 101, 100, 1, 5, 3, 8, 2, 0]\n",
        "bubble_sort(array)\n",
        "print(array)\n",
        "\n",
        "# Question\n",
        "# Why is the suffix location not explicitly stored?\n"
      ]
    },
    {
      "cell_type": "markdown",
      "metadata": {
        "id": "CiWbnXAGk46d"
      },
      "source": [
        "## Insert Sort"
      ]
    },
    {
      "cell_type": "code",
      "execution_count": null,
      "metadata": {
        "id": "4FQvFsHUnq8j"
      },
      "outputs": [],
      "source": [
        "# TODO: try it yourself, then look below to check your answer\n",
        "\n",
        "def insert_sort(array: list[int]) -> None:\n",
        "  \"\"\"Insert each element one at a time into the sorted prefix, operating on the array in place.\"\"\""
      ]
    },
    {
      "cell_type": "code",
      "execution_count": null,
      "metadata": {
        "id": "Z3Bt87zDk6I1"
      },
      "outputs": [],
      "source": [
        "def insert_sort(array: list[int]) -> None:\n",
        "  \"\"\"Insert each element one at a time into the sorted prefix, operating on the array in place.\"\"\"\n",
        "  for i in range(1,len(array)):\n",
        "    cur_elem = array[i]\n",
        "    j = i-1\n",
        "    while j >= 0:\n",
        "      if cur_elem >= array[j]:\n",
        "        break\n",
        "      if cur_elem < array[j]:\n",
        "        array[j + 1] = array[j]\n",
        "        array[j] = cur_elem\n",
        "        j -= 1\n",
        "\n",
        "array = [-10, -100, 100, 1, 5, 3, 8, 2, -1]\n",
        "print(f'array is: {array}')\n",
        "\n",
        "return_value = insert_sort(array)\n",
        "print(f'array is: {array}')\n",
        "print(f'return_value is: {return_value}')\n",
        "\n",
        "# Question\n",
        "# Why is the index j used?"
      ]
    },
    {
      "cell_type": "markdown",
      "metadata": {
        "id": "Kt41ndDtibnU"
      },
      "source": [
        "## Merge Sort"
      ]
    },
    {
      "cell_type": "code",
      "execution_count": null,
      "metadata": {
        "id": "6CcH6IdEoK8f"
      },
      "outputs": [],
      "source": [
        "# TODO: try it yourself, then look below to check your answer\n",
        "\n",
        "from typing import List\n",
        "\n",
        "def merge(a: List[int], b: List[int]) -> list[int]:\n",
        "  \"\"\"Merge two sorted lists.\"\"\"\n",
        "\n",
        "def merge_sort(array: list[int]) -> list[int]:\n",
        "    \"\"\"Sort the provided list recursively.\"\"\"\n",
        "    # Base case is reaching a sorted list of length 0 or 1, which are always sorted.\n",
        "    # Recursively call merge_sort inside of merge, making the assumption that eventually,\n",
        "    # the array will be split into trivially sorted chunks\n",
        "    # The recursive calls must use inputs that are the first or second half of the list,\n",
        "    # which will be used in further splitting."
      ]
    },
    {
      "cell_type": "code",
      "execution_count": null,
      "metadata": {
        "id": "cnA5WCdUic9G"
      },
      "outputs": [],
      "source": [
        "from typing import List\n",
        "\n",
        "def merge(a: List[int], b: List[int]) -> list[int]:\n",
        "  \"\"\"Merge two sorted lists.\"\"\"\n",
        "\n",
        "  merged = []\n",
        "  idx_a, idx_b = 0, 0\n",
        "\n",
        "  while idx_a != len(a) and idx_b != len(b):\n",
        "    if a[idx_a] <= b[idx_b]:\n",
        "      merged.append(a[idx_a])\n",
        "      idx_a += 1\n",
        "    else:\n",
        "      merged.append(b[idx_b])\n",
        "      idx_b += 1\n",
        "\n",
        "  if idx_a == len(a):\n",
        "    merged += b[idx_b:]\n",
        "  if idx_b == len(b):\n",
        "    merged += a[idx_a:]\n",
        "\n",
        "  return merged\n",
        "\n",
        "# Questions\n",
        "# What is idx_a and idx_b tracking?\n",
        "\n",
        "array1 = [1,4,6,8,10,11]\n",
        "array2 = [2,3,4,7,9,10]\n",
        "print(f'array1 is: {array1} and array2 is: {array2}')\n",
        "\n",
        "return_value = merge(array1, array2)\n",
        "print(f'array1 is: {array1} and array2 is: {array2}')\n",
        "print(f'return_value is: {return_value}')\n"
      ]
    },
    {
      "cell_type": "code",
      "execution_count": null,
      "metadata": {
        "id": "GTJNhlZYieSw"
      },
      "outputs": [],
      "source": [
        "def merge_sort(array: list[int]) -> list[int]:\n",
        "    \"\"\"Sort the provided list called array with the merge sort algorithm.\"\"\"\n",
        "    # If the input array contains fewer than two elements,\n",
        "    # then return it as the result of the function\n",
        "    if len(array) < 2:\n",
        "        return array\n",
        "    midpoint = len(array) // 2\n",
        "    # Sort the array by recursively splitting the input\n",
        "    # into two equal halves, sorting each half and merging them\n",
        "    # together into the final result\n",
        "    return merge(a=merge_sort(array[:midpoint]), b=merge_sort(array[midpoint:]))\n",
        "\n",
        "input_list = [56, 3, 5, 9, 0, -10, 5, 77, 9, 101]\n",
        "sorted_list = merge_sort(input_list)\n",
        "print(f\"Contents of the input list: {input_list}\")\n",
        "print(f\"Contents of the sorted list: {sorted_list}\")\n",
        "\n",
        "# Questions\n",
        "# Is there anything here that could be adding computational complexity (i.e. time) to the algorithm?"
      ]
    }
  ],
  "metadata": {
    "colab": {
      "provenance": []
    },
    "kernelspec": {
      "display_name": "Python 3",
      "name": "python3"
    },
    "language_info": {
      "name": "python"
    }
  },
  "nbformat": 4,
  "nbformat_minor": 0
}
