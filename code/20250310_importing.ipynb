{
  "nbformat": 4,
  "nbformat_minor": 0,
  "metadata": {
    "colab": {
      "provenance": []
    },
    "kernelspec": {
      "name": "python3",
      "display_name": "Python 3"
    },
    "language_info": {
      "name": "python"
    }
  },
  "cells": [
    {
      "cell_type": "markdown",
      "source": [
        "[![Open In Colab](https://colab.research.google.com/assets/colab-badge.svg)](https://githubtocolab.com/allegheny-college-cmpsc-101-spring-2025/site/blob/main/code/20250310_importing.ipynb)"
      ],
      "metadata": {
        "id": "5eHBLofIVVbC"
      }
    },
    {
      "cell_type": "markdown",
      "source": [
        "# Guttag Chapter 7 - Modules"
      ],
      "metadata": {
        "id": "dcLXDz6BVarJ"
      }
    },
    {
      "cell_type": "code",
      "execution_count": null,
      "metadata": {
        "id": "YBbs3T4zUIvM"
      },
      "outputs": [],
      "source": [
        "%reset -f\n",
        "\n",
        "import Typing\n",
        "\n",
        "# Recalling the apply_to_each function\n",
        "# TODO: access the List symbol without modifying the import statement\n",
        "# TODO: access the Callable symbol without modifying the import statement\n",
        "# TODO: access the Tuple symbol without modifying the import statement"
      ]
    },
    {
      "cell_type": "code",
      "source": [
        "%reset -f\n",
        "\n",
        "from Typing import List, Callable, Tuple\n",
        "\n",
        "# Recalling the apply_to_each function\n",
        "# TODO: access the List symbol without modifying the import statement\n",
        "# TODO: access the Callable symbol without modifying the import statement\n",
        "# TODO: access the Tuple symbol without modifying the import statement"
      ],
      "metadata": {
        "id": "E0XyAk7sUj_2"
      },
      "execution_count": null,
      "outputs": []
    },
    {
      "cell_type": "code",
      "source": [
        "%reset -f\n",
        "\n",
        "# TODO: write an import statement to give direct access to the randint function in the random lib"
      ],
      "metadata": {
        "id": "l8-vEUTrU7Sv"
      },
      "execution_count": null,
      "outputs": []
    },
    {
      "cell_type": "code",
      "source": [
        "%reset -f\n",
        "\n",
        "# TODO: write an import statement that renames the random lib to be your name\n",
        "# TODO: then acccess the randint function using do notation"
      ],
      "metadata": {
        "id": "xzOd1o29VI7z"
      },
      "execution_count": null,
      "outputs": []
    },
    {
      "cell_type": "code",
      "source": [
        "# TODO: think of another example to test using the copy module"
      ],
      "metadata": {
        "id": "pwqcsrREVsSz"
      },
      "execution_count": null,
      "outputs": []
    }
  ]
}