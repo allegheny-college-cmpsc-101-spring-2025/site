{
  "nbformat": 4,
  "nbformat_minor": 0,
  "metadata": {
    "colab": {
      "provenance": []
    },
    "kernelspec": {
      "name": "python3",
      "display_name": "Python 3"
    },
    "language_info": {
      "name": "python"
    }
  },
  "cells": [
    {
      "cell_type": "markdown",
      "source": [
        "[![Open In Colab](https://colab.research.google.com/assets/colab-badge.svg)](https://githubtocolab.com/allegheny-college-cmpsc-101-spring-2025/site/blob/main/code/20250319_exception_handling.ipynb)"
      ],
      "metadata": {
        "id": "lPu9i7B2Uy06"
      }
    },
    {
      "cell_type": "markdown",
      "source": [
        "# Exception Handling - Guttag Chapter 9"
      ],
      "metadata": {
        "id": "2ed3c6GxLh1x"
      }
    },
    {
      "cell_type": "markdown",
      "source": [
        "## The code below crashes"
      ],
      "metadata": {
        "id": "h7ipc1N9Q-x-"
      }
    },
    {
      "cell_type": "code",
      "execution_count": null,
      "metadata": {
        "id": "wdiMNiXcLhVe"
      },
      "outputs": [],
      "source": [
        "print(hello)"
      ]
    },
    {
      "cell_type": "code",
      "source": [
        "print(1+'a')"
      ],
      "metadata": {
        "collapsed": true,
        "id": "Ulcx8vb5OB_c"
      },
      "execution_count": null,
      "outputs": []
    },
    {
      "cell_type": "code",
      "source": [
        "print(10 = 10)"
      ],
      "metadata": {
        "collapsed": true,
        "id": "fcWYh715OEDs"
      },
      "execution_count": null,
      "outputs": []
    },
    {
      "cell_type": "code",
      "source": [
        "open(\"non-existant-file.csv\")"
      ],
      "metadata": {
        "id": "qJEWW3nzRMmO"
      },
      "execution_count": null,
      "outputs": []
    },
    {
      "cell_type": "code",
      "source": [
        "# check if a is divisible by b\n",
        "\n",
        "def is_divisible(a, b) -> bool:\n",
        "  \"\"\"Check if a is divisible by b.\"\"\"\n",
        "  return a % b == 0\n",
        "\n",
        "\n",
        "print(is_divisible(0,0))"
      ],
      "metadata": {
        "id": "H1F7-RRdOMv6"
      },
      "execution_count": null,
      "outputs": []
    },
    {
      "cell_type": "markdown",
      "source": [
        "## The code below runs!"
      ],
      "metadata": {
        "id": "4w1GoijrRHJc"
      }
    },
    {
      "cell_type": "code",
      "source": [
        "try:\n",
        "  print(hello)\n",
        "except NameError:\n",
        "  print(\"something above is not working correctly, but the code will keep running anyway!\")\n"
      ],
      "metadata": {
        "colab": {
          "base_uri": "https://localhost:8080/"
        },
        "id": "f-9sQNE6Mv_8",
        "outputId": "6f224b99-7873-4104-c38e-292610133695"
      },
      "execution_count": null,
      "outputs": [
        {
          "output_type": "stream",
          "name": "stdout",
          "text": [
            "something above is not working correctly, but the code will keep running anyway!\n"
          ]
        }
      ]
    },
    {
      "cell_type": "code",
      "source": [
        "try:\n",
        "  print(hello)\n",
        "except NameError as msg:\n",
        "  print(msg)\n"
      ],
      "metadata": {
        "colab": {
          "base_uri": "https://localhost:8080/"
        },
        "id": "vb8xcZg1Pqul",
        "outputId": "05382150-93cd-4c46-ae84-ad52bf68485a"
      },
      "execution_count": null,
      "outputs": [
        {
          "output_type": "stream",
          "name": "stdout",
          "text": [
            "name 'hello' is not defined\n"
          ]
        }
      ]
    },
    {
      "cell_type": "markdown",
      "source": [
        "## These exceptions are intentional"
      ],
      "metadata": {
        "id": "ta8P0FtPTihd"
      }
    },
    {
      "cell_type": "code",
      "source": [
        "result = None\n",
        "\n",
        "if result is None:\n",
        "  raise ValueError"
      ],
      "metadata": {
        "id": "JsRyzbeTR5Pj"
      },
      "execution_count": null,
      "outputs": []
    },
    {
      "cell_type": "code",
      "source": [
        "result = None\n",
        "assert result is True\n"
      ],
      "metadata": {
        "id": "xmEZnED8TYhl"
      },
      "execution_count": null,
      "outputs": []
    },
    {
      "cell_type": "markdown",
      "source": [],
      "metadata": {
        "id": "0s5IaHKCUB50"
      }
    },
    {
      "cell_type": "markdown",
      "source": [
        "## Larger Example of Exception Handling"
      ],
      "metadata": {
        "id": "riEb507ZUC5F"
      }
    },
    {
      "cell_type": "code",
      "execution_count": null,
      "metadata": {
        "id": "hTA924emHH0n"
      },
      "outputs": [],
      "source": [
        "# define a function that computes the ratios of the floats\n",
        "# inside of two input lists and then creates an output list\n",
        "from typing import List\n",
        "\n",
        "def get_ratios(one: List, two: List) -> List[float]:\n",
        "    ratios = []\n",
        "    for index in range(len(one)):\n",
        "        try:\n",
        "            ratios.append(one[index] / two[index])\n",
        "        except ZeroDivisionError:\n",
        "            ratios.append(float('nan'))\n",
        "        except:\n",
        "            raise ValueError(\"Incorrect arguments\")\n",
        "    return ratios"
      ]
    },
    {
      "cell_type": "code",
      "execution_count": null,
      "metadata": {
        "id": "nXx5Dhd5HH0n"
      },
      "outputs": [],
      "source": [
        "# run the get_ratios function with exception handling\n",
        "try:\n",
        "    print(get_ratios([1, 2, 7, 6], [1, 2, 0, 3]))\n",
        "    print(get_ratios([], []))\n",
        "    print(get_ratios([1, 2, 7], [1, 2, 10, 3]))\n",
        "    print(get_ratios([1, 2, 7, 6], [1, 2, 10]))\n",
        "except ValueError as message:\n",
        "    print(message)"
      ]
    },
    {
      "cell_type": "code",
      "execution_count": null,
      "metadata": {
        "id": "Vzx9zHFjHH0n"
      },
      "outputs": [],
      "source": [
        "# run the get_ratios function without exception handling\n",
        "print(get_ratios([1, 2, 7, 6], [1, 2, 0, 3]))\n",
        "print(get_ratios([], []))\n",
        "print(get_ratios([1, 2, 7], [1, 2, 10, 3]))\n",
        "print(get_ratios([1, 2, 7, 6], [1, 2, 10]))"
      ]
    }
  ]
}